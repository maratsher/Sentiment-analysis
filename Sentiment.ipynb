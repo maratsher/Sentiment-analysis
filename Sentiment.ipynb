{
  "nbformat": 4,
  "nbformat_minor": 0,
  "metadata": {
    "kernelspec": {
      "display_name": "Python 3",
      "language": "python",
      "name": "python3"
    },
    "language_info": {
      "codemirror_mode": {
        "name": "ipython",
        "version": 3
      },
      "file_extension": ".py",
      "mimetype": "text/x-python",
      "name": "python",
      "nbconvert_exporter": "python",
      "pygments_lexer": "ipython3",
      "version": "3.8.5"
    },
    "colab": {
      "name": "Sentiment.ipynb",
      "provenance": [],
      "collapsed_sections": []
    }
  },
  "cells": [
    {
      "cell_type": "markdown",
      "metadata": {
        "id": "ylkKG51JJdKW"
      },
      "source": [
        "## Подключение к Google Drive"
      ]
    },
    {
      "cell_type": "code",
      "metadata": {
        "id": "XuudJVoYX2ny",
        "colab": {
          "base_uri": "https://localhost:8080/"
        },
        "outputId": "a5d047b2-6a1b-4aa3-f040-e422bf18bc0e"
      },
      "source": [
        "from google.colab import drive\n",
        "drive.mount('/content/drive')"
      ],
      "execution_count": null,
      "outputs": [
        {
          "output_type": "stream",
          "text": [
            "Mounted at /content/drive\n"
          ],
          "name": "stdout"
        }
      ]
    },
    {
      "cell_type": "markdown",
      "metadata": {
        "id": "8M0vVPInXu-d"
      },
      "source": [
        "## Импорт библиотек"
      ]
    },
    {
      "cell_type": "code",
      "metadata": {
        "id": "c8qD8vHaXu-k",
        "colab": {
          "base_uri": "https://localhost:8080/"
        },
        "outputId": "f3403f6f-f56f-4cd8-fa44-2adbec5b0722"
      },
      "source": [
        "import numpy as np\n",
        "import pandas as pd\n",
        "import matplotlib.pyplot as plt\n",
        "import logging\n",
        "from bs4 import BeautifulSoup\n",
        "from random import shuffle\n",
        "from sklearn import metrics\n",
        "from sklearn.feature_extraction.text import TfidfVectorizer\n",
        "from sklearn.feature_extraction.text import CountVectorizer\n",
        "from sklearn.feature_extraction.text import TfidfTransformer\n",
        "from sklearn.base import BaseEstimator\n",
        "from sklearn.linear_model import SGDClassifier\n",
        "from sklearn.linear_model import LogisticRegression\n",
        "from sklearn.neighbors import KNeighborsClassifier\n",
        "from sklearn.ensemble import RandomForestClassifier\n",
        "from sklearn.pipeline import Pipeline\n",
        "from sklearn.model_selection import GridSearchCV\n",
        "from sklearn.model_selection import train_test_split\n",
        "import nltk\n",
        "from nltk.tokenize import word_tokenize\n",
        "from nltk.stem import PorterStemmer\n",
        "from nltk.corpus import stopwords\n",
        "from gensim.models import Doc2Vec\n",
        "from gensim.models.doc2vec import TaggedDocument\n",
        "from gensim.matutils import unitvec\n",
        "import gensim.models.keyedvectors as Word2vec\n",
        "\n",
        "nltk.download('punkt')\n",
        "nltk.download('stopwords')"
      ],
      "execution_count": null,
      "outputs": [
        {
          "output_type": "stream",
          "text": [
            "[nltk_data] Downloading package punkt to /root/nltk_data...\n",
            "[nltk_data]   Unzipping tokenizers/punkt.zip.\n",
            "[nltk_data] Downloading package stopwords to /root/nltk_data...\n",
            "[nltk_data]   Unzipping corpora/stopwords.zip.\n"
          ],
          "name": "stdout"
        },
        {
          "output_type": "execute_result",
          "data": {
            "text/plain": [
              "True"
            ]
          },
          "metadata": {
            "tags": []
          },
          "execution_count": 2
        }
      ]
    },
    {
      "cell_type": "markdown",
      "metadata": {
        "id": "LBGTOXZtXu-o"
      },
      "source": [
        "## Скачивание и исследование данных\n",
        "\n",
        "\n",
        "\n"
      ]
    },
    {
      "cell_type": "code",
      "metadata": {
        "id": "QPyIH_3CXu-p",
        "colab": {
          "base_uri": "https://localhost:8080/",
          "height": 204
        },
        "outputId": "2abcf48e-e234-4917-c547-9b776b499415"
      },
      "source": [
        "data = pd.read_csv(\"/content/drive/MyDrive/IMDB_Dataset.csv\", engine=\"python\", error_bad_lines=False)\n",
        "data.head(5)"
      ],
      "execution_count": null,
      "outputs": [
        {
          "output_type": "execute_result",
          "data": {
            "text/html": [
              "<div>\n",
              "<style scoped>\n",
              "    .dataframe tbody tr th:only-of-type {\n",
              "        vertical-align: middle;\n",
              "    }\n",
              "\n",
              "    .dataframe tbody tr th {\n",
              "        vertical-align: top;\n",
              "    }\n",
              "\n",
              "    .dataframe thead th {\n",
              "        text-align: right;\n",
              "    }\n",
              "</style>\n",
              "<table border=\"1\" class=\"dataframe\">\n",
              "  <thead>\n",
              "    <tr style=\"text-align: right;\">\n",
              "      <th></th>\n",
              "      <th>review</th>\n",
              "      <th>sentiment</th>\n",
              "    </tr>\n",
              "  </thead>\n",
              "  <tbody>\n",
              "    <tr>\n",
              "      <th>0</th>\n",
              "      <td>One of the other reviewers has mentioned that ...</td>\n",
              "      <td>positive</td>\n",
              "    </tr>\n",
              "    <tr>\n",
              "      <th>1</th>\n",
              "      <td>A wonderful little production. &lt;br /&gt;&lt;br /&gt;The...</td>\n",
              "      <td>positive</td>\n",
              "    </tr>\n",
              "    <tr>\n",
              "      <th>2</th>\n",
              "      <td>I thought this was a wonderful way to spend ti...</td>\n",
              "      <td>positive</td>\n",
              "    </tr>\n",
              "    <tr>\n",
              "      <th>3</th>\n",
              "      <td>Basically there's a family where a little boy ...</td>\n",
              "      <td>negative</td>\n",
              "    </tr>\n",
              "    <tr>\n",
              "      <th>4</th>\n",
              "      <td>Petter Mattei's \"Love in the Time of Money\" is...</td>\n",
              "      <td>positive</td>\n",
              "    </tr>\n",
              "  </tbody>\n",
              "</table>\n",
              "</div>"
            ],
            "text/plain": [
              "                                              review sentiment\n",
              "0  One of the other reviewers has mentioned that ...  positive\n",
              "1  A wonderful little production. <br /><br />The...  positive\n",
              "2  I thought this was a wonderful way to spend ti...  positive\n",
              "3  Basically there's a family where a little boy ...  negative\n",
              "4  Petter Mattei's \"Love in the Time of Money\" is...  positive"
            ]
          },
          "metadata": {
            "tags": []
          },
          "execution_count": 5
        }
      ]
    },
    {
      "cell_type": "code",
      "metadata": {
        "colab": {
          "base_uri": "https://localhost:8080/"
        },
        "id": "xsdBmSVLS9Nv",
        "outputId": "93b1a28a-362e-4905-ebca-9f987fad1b9e"
      },
      "source": [
        "print(\"Количество токенов в корпусе:\")\n",
        "data['review'].apply(lambda x: len(x.split(' '))).sum()"
      ],
      "execution_count": null,
      "outputs": [
        {
          "output_type": "stream",
          "text": [
            "Количество токенов в корпусе:\n"
          ],
          "name": "stdout"
        },
        {
          "output_type": "execute_result",
          "data": {
            "text/plain": [
              "11557297"
            ]
          },
          "metadata": {
            "tags": []
          },
          "execution_count": 4
        }
      ]
    },
    {
      "cell_type": "code",
      "metadata": {
        "colab": {
          "base_uri": "https://localhost:8080/",
          "height": 299
        },
        "id": "wq2IOtejUMa9",
        "outputId": "7c46ceb6-5c1b-455a-ac0c-1aebac9b15fa"
      },
      "source": [
        "print(\"Распределение по категориям\")\n",
        "data['sentiment'].value_counts().plot(kind=\"bar\", rot=0)"
      ],
      "execution_count": null,
      "outputs": [
        {
          "output_type": "stream",
          "text": [
            "Распределение по категориям\n"
          ],
          "name": "stdout"
        },
        {
          "output_type": "execute_result",
          "data": {
            "text/plain": [
              "<matplotlib.axes._subplots.AxesSubplot at 0x7f45a6c93590>"
            ]
          },
          "metadata": {
            "tags": []
          },
          "execution_count": 6
        },
        {
          "output_type": "display_data",
          "data": {
            "image/png": "[encoded data removed]",
            "text/plain": [
              "<Figure size 432x288 with 1 Axes>"
            ]
          },
          "metadata": {
            "tags": [],
            "needs_background": "light"
          }
        }
      ]
    },
    {
      "cell_type": "code",
      "metadata": {
        "id": "aUVg95PNXu-q",
        "colab": {
          "base_uri": "https://localhost:8080/"
        },
        "outputId": "2a4b2d44-68c5-426e-f2ef-294107be8cb3"
      },
      "source": [
        "AMOUNT_DATA = 50000\n",
        "\n",
        "docs = data['review']\n",
        "scores = data['sentiment']\n",
        "\n",
        "docs = docs[:AMOUNT_DATA]\n",
        "scores = scores[:AMOUNT_DATA]\n",
        "\n",
        "scores = pd.factorize(scores)[0]\n",
        "docs[:5]"
      ],
      "execution_count": null,
      "outputs": [
        {
          "output_type": "execute_result",
          "data": {
            "text/plain": [
              "0    One of the other reviewers has mentioned that ...\n",
              "1    A wonderful little production. <br /><br />The...\n",
              "2    I thought this was a wonderful way to spend ti...\n",
              "3    Basically there's a family where a little boy ...\n",
              "4    Petter Mattei's \"Love in the Time of Money\" is...\n",
              "Name: review, dtype: object"
            ]
          },
          "metadata": {
            "tags": []
          },
          "execution_count": 5
        }
      ]
    },
    {
      "cell_type": "code",
      "metadata": {
        "colab": {
          "base_uri": "https://localhost:8080/"
        },
        "id": "F5x9Af8e0UcQ",
        "outputId": "4767d8b8-c8fc-4d94-c99e-e46b9f6eadc3"
      },
      "source": [
        "scores[:5] # 0 -pos 1 - neg"
      ],
      "execution_count": null,
      "outputs": [
        {
          "output_type": "execute_result",
          "data": {
            "text/plain": [
              "array([0, 0, 0, 1, 0])"
            ]
          },
          "metadata": {
            "tags": []
          },
          "execution_count": 8
        }
      ]
    },
    {
      "cell_type": "markdown",
      "metadata": {
        "id": "0CGlRkAQXu-q"
      },
      "source": [
        "## Стемматизация корпуса (необязательно)\n",
        "\n",
        "Стемматизированный корпус сохраним на диске"
      ]
    },
    {
      "cell_type": "code",
      "metadata": {
        "id": "NpPCIuLdXu-r"
      },
      "source": [
        "%%time\n",
        "ps = PorterStemmer()\n",
        "\n",
        "for n,doc in enumerate(docs):\n",
        "    new_doc = ''\n",
        "    s_w = {'film', 'movi'}\n",
        "    words = word_tokenize(doc)\n",
        "    for w in words:\n",
        "        w = ps.stem(w)\n",
        "        if not (w in s_w):\n",
        "            new_doc += w + ' '\n",
        "    docs[n] = new_doc\n",
        "\n",
        "docs[:5]\n",
        "docs.to_csv('/content/drive/MyDrive/StemmerCorpus')"
      ],
      "execution_count": null,
      "outputs": []
    },
    {
      "cell_type": "markdown",
      "metadata": {
        "id": "vuZ3BgnPXu-r"
      },
      "source": [
        "Скачиваем стемматизированный корпус с диска"
      ]
    },
    {
      "cell_type": "code",
      "metadata": {
        "id": "Es_H668sXu-s",
        "colab": {
          "base_uri": "https://localhost:8080/"
        },
        "outputId": "e05a7c77-438a-436b-da75-0ffc764652bd"
      },
      "source": [
        "docs = pd.read_csv(\"/content/drive/MyDrive/StemmerCorpus\")['review']\n",
        "docs[:5]"
      ],
      "execution_count": null,
      "outputs": [
        {
          "output_type": "execute_result",
          "data": {
            "text/plain": [
              "0    one of the other review ha mention that after ...\n",
              "1    A wonder littl product . < br / > < br / > the...\n",
              "2    I thought thi wa a wonder way to spend time on...\n",
              "3    basic there 's a famili where a littl boy ( ja...\n",
              "4    petter mattei 's `` love in the time of money ...\n",
              "Name: review, dtype: object"
            ]
          },
          "metadata": {
            "tags": []
          },
          "execution_count": 8
        }
      ]
    },
    {
      "cell_type": "markdown",
      "metadata": {
        "id": "5lfylMwDCtlT"
      },
      "source": [
        "# Bag of words и TF-IDF + Classifier"
      ]
    },
    {
      "cell_type": "markdown",
      "metadata": {
        "id": "pejzYfeBXu-s"
      },
      "source": [
        "### Разделения корпуса текста на тренировочный и тестовый набор"
      ]
    },
    {
      "cell_type": "code",
      "metadata": {
        "id": "7XLD-W41Xu-t"
      },
      "source": [
        "docs_train, docs_test, y_train, y_test = train_test_split(docs, scores,\n",
        "                                                          test_size=0.10, random_state=None)"
      ],
      "execution_count": null,
      "outputs": []
    },
    {
      "cell_type": "code",
      "metadata": {
        "id": "9b4qN6HeXu-t",
        "colab": {
          "base_uri": "https://localhost:8080/"
        },
        "outputId": "9efed462-1e89-4d9b-dbb7-c831c48d64c0"
      },
      "source": [
        "print(docs_train.shape, y_train.shape)\n",
        "print(docs_test.shape, y_test.shape)"
      ],
      "execution_count": null,
      "outputs": [
        {
          "output_type": "stream",
          "text": [
            "(45000,) (45000,)\n",
            "(5000,) (5000,)\n"
          ],
          "name": "stdout"
        }
      ]
    },
    {
      "cell_type": "code",
      "metadata": {
        "id": "xlM7ABYSO9I_"
      },
      "source": [
        "#очистка данных от тех. символов\n",
        "docs_test = docs_test.apply(lambda x: BeautifulSoup(x).get_text())\n",
        "docs_train = docs_train.apply(lambda x: BeautifulSoup(x).get_text())"
      ],
      "execution_count": null,
      "outputs": []
    },
    {
      "cell_type": "code",
      "metadata": {
        "colab": {
          "base_uri": "https://localhost:8080/",
          "height": 313
        },
        "id": "k7G4SjMUW5TC",
        "outputId": "7a9d023a-ccfd-4284-b1aa-453d1f7c4f0e"
      },
      "source": [
        "print(\"Распределение по категориям в тестовом наборе\")\n",
        "pd.DataFrame(y_test).value_counts().plot(kind=\"bar\", rot=0)"
      ],
      "execution_count": null,
      "outputs": [
        {
          "output_type": "stream",
          "text": [
            "Распределение по категориям в тестовом наборе\n"
          ],
          "name": "stdout"
        },
        {
          "output_type": "execute_result",
          "data": {
            "text/plain": [
              "<matplotlib.axes._subplots.AxesSubplot at 0x7f39cad8c6d0>"
            ]
          },
          "metadata": {
            "tags": []
          },
          "execution_count": 9
        },
        {
          "output_type": "display_data",
          "data": {
            "image/png": "[encoded data removed]",
            "text/plain": [
              "<Figure size 432x288 with 1 Axes>"
            ]
          },
          "metadata": {
            "tags": [],
            "needs_background": "light"
          }
        }
      ]
    },
    {
      "cell_type": "markdown",
      "metadata": {
        "id": "_jH5CftRXu-u"
      },
      "source": [
        "### Написание эстиматора-переключателя\n",
        "Используеться как универсальная модель, которая может быть любой моделью машинного обучения из sklean, в зависимости от параметра. Используеться при обучения по сетке, для выбора лучшей модели машинного обучения"
      ]
    },
    {
      "cell_type": "code",
      "metadata": {
        "id": "8KwwjqkwXu-u"
      },
      "source": [
        "class ClfSwitcher(BaseEstimator): # Модель - переключатель\n",
        "    def __init__(self, estimator = SGDClassifier()):\n",
        "        self.estimator = estimator\n",
        "\n",
        "    def fit(self, X, y=None, **kwargs):\n",
        "        self.estimator.fit(X, y)\n",
        "        return self\n",
        "\n",
        "\n",
        "    def predict(self, X, y=None):\n",
        "        return self.estimator.predict(X)\n",
        "\n",
        "\n",
        "    def predict_proba(self, X):\n",
        "        return self.estimator.predict_proba(X)\n",
        "\n",
        "\n",
        "    def score(self, X, y):\n",
        "        return self.estimator.score(X, y)\n",
        "\n",
        "    def coef(self):\n",
        "        return self.estimator.coef_\n"
      ],
      "execution_count": null,
      "outputs": []
    },
    {
      "cell_type": "markdown",
      "metadata": {
        "id": "FgkXaeUgXu-u"
      },
      "source": [
        "### Написание Pipeline\n",
        "\n",
        "#### Bag of word\n",
        "Каждый документ - это вектор размером с весь словарь корпуса, при том каждый элемент вектора сооветвует одному слову из словаря. И он равен одному, если это слово есть в данном документе, иначе ноль.\n",
        "Таким оброзом мы преобразуем документы в векторы\n",
        "\n",
        "#### Tf-idf\n",
        "TF (или частота слова) – это отношение количества употреблений какого-либо слова к совокупному количеству слов документа. Следовательно, анализируется значимость слова в одном отдельном документе.\n",
        "IDF — это обратная частотность документов, с которой какое-либо слово упоминается в документах коллекции. Для любого уникального слова в пределах точной коллекции документов присутствует одно значение IDF.\n",
        "TF-IDF считается произведением двух выражений.\n",
        "Т.е TF-IDF учитывает важность слова не только в рамках документа, но и рамках всего корпуса.\n"
      ]
    },
    {
      "cell_type": "code",
      "metadata": {
        "id": "N_GKhjVsyJbG"
      },
      "source": [
        "pipeline_bag_of_word = Pipeline([\n",
        "        ('vect', CountVectorizer(stop_words='english')),\n",
        "        ('clf', ClfSwitcher())\n",
        "])\n",
        "\n",
        "pipeline_tf_idf = Pipeline([\n",
        "        ('vect', CountVectorizer(stop_words='english')),\n",
        "        ('tf-idf', TfidfTransformer()),\n",
        "        ('clf', ClfSwitcher())\n",
        "])"
      ],
      "execution_count": null,
      "outputs": []
    },
    {
      "cell_type": "markdown",
      "metadata": {
        "id": "rWMFvC4QwpvH"
      },
      "source": [
        "#### Составляем сетку параметров"
      ]
    },
    {
      "cell_type": "code",
      "metadata": {
        "id": "FkXlW4m2Xu-v"
      },
      "source": [
        "parameters = [\n",
        "    {\n",
        "    #Линейный классифектор\n",
        "        'clf__estimator': [SGDClassifier()], # SVM == loss\n",
        "    #Парметры векторизации\n",
        "        'vect__ngram_range': [(1, 1), (1, 2)],\n",
        "        'vect__max_features': [None, 3000, 5000],\n",
        "        'vect__min_df': [1,2],\n",
        "    #Параметры модели\n",
        "        'clf__estimator__max_iter': [30,50,80],\n",
        "        'clf__estimator__alpha': [0.001, 0.0001],\n",
        "        'clf__estimator__loss': ['hinge', 'log', 'modified_huber'],\n",
        "    },\n",
        "    {\n",
        "     #K-ближайших соседей\n",
        "        'clf__estimator': [KNeighborsClassifier(n_jobs=-1)],\n",
        "     #Парметры векторизации\n",
        "        'vect__ngram_range': [(1, 1), (1, 2)],\n",
        "        'vect__max_features': [None, 3000, 5000],\n",
        "        'vect__min_df': [1,2],\n",
        "     #Параметры модели\n",
        "        'clf__estimator__n_neighbors':[3, 5],\n",
        "        'clf__estimator__metric':['minkowski', 'cosine']\n",
        "    },\n",
        "    {\n",
        "     #Решающие деревья\n",
        "        'clf__estimator': [RandomForestClassifier(n_jobs=-1)],\n",
        "     #Парметры векторизации\n",
        "        'vect__ngram_range': [(1, 1), (1, 2)],\n",
        "        'vect__max_features': [None, 3000, 5000],\n",
        "        'vect__min_df': [1,2],\n",
        "     #Параметры модели\n",
        "        'clf__estimator__n_estimators': [50, 100],\n",
        "        'clf__estimator__max_depth':[3, 5, 10]\n",
        "    }\n",
        "]\n",
        "#(?u)\\b\\w\\D\\w+\\b - без цифр."
      ],
      "execution_count": null,
      "outputs": []
    },
    {
      "cell_type": "markdown",
      "metadata": {
        "id": "t9fcvQgHXu-v"
      },
      "source": [
        "### Обучение пиплайнов по сетке параметров"
      ]
    },
    {
      "cell_type": "code",
      "metadata": {
        "id": "ZaDtTpsLXu-w",
        "colab": {
          "base_uri": "https://localhost:8080/"
        },
        "outputId": "21c6b58b-5985-4eeb-ef74-7eadce459190"
      },
      "source": [
        "%%time\n",
        "grid_search = GridSearchCV(pipeline_tf_idf, parameters, n_jobs=-1)\n",
        "grid_search.fit(docs_train, y_train)"
      ],
      "execution_count": null,
      "outputs": [
        {
          "output_type": "execute_result",
          "data": {
            "text/plain": [
              "GridSearchCV(cv=None, error_score=nan,\n",
              "             estimator=Pipeline(memory=None,\n",
              "                                steps=[('vect',\n",
              "                                        CountVectorizer(analyzer='word',\n",
              "                                                        binary=False,\n",
              "                                                        decode_error='strict',\n",
              "                                                        dtype=<class 'numpy.int64'>,\n",
              "                                                        encoding='utf-8',\n",
              "                                                        input='content',\n",
              "                                                        lowercase=True,\n",
              "                                                        max_df=1.0,\n",
              "                                                        max_features=None,\n",
              "                                                        min_df=1,\n",
              "                                                        ngram_range=(1, 1),\n",
              "                                                        preprocessor=None,\n",
              "                                                        stop_words='english',\n",
              "                                                        strip_accents=None,\n",
              "                                                        token_patte...\n",
              "                                                                    min_weight_fraction_leaf=0.0,\n",
              "                                                                    n_estimators=100,\n",
              "                                                                    n_jobs=-1,\n",
              "                                                                    oob_score=False,\n",
              "                                                                    random_state=None,\n",
              "                                                                    verbose=0,\n",
              "                                                                    warm_start=False)],\n",
              "                          'clf__estimator__max_depth': [3, 5, 10],\n",
              "                          'clf__estimator__n_estimators': [50, 100],\n",
              "                          'vect__max_features': [None, 3000, 5000],\n",
              "                          'vect__min_df': [1, 2],\n",
              "                          'vect__ngram_range': [(1, 1), (1, 2)]}],\n",
              "             pre_dispatch='2*n_jobs', refit=True, return_train_score=False,\n",
              "             scoring=None, verbose=0)"
            ]
          },
          "metadata": {
            "tags": []
          },
          "execution_count": 16
        }
      ]
    },
    {
      "cell_type": "markdown",
      "metadata": {
        "id": "IujXVA9Lxnj5"
      },
      "source": [
        "### Сохраняеям модель в файле"
      ]
    },
    {
      "cell_type": "code",
      "metadata": {
        "id": "enWHuvse-a69"
      },
      "source": [
        "filename = '/content/drive/MyDrive/model.sav'"
      ],
      "execution_count": null,
      "outputs": []
    },
    {
      "cell_type": "code",
      "metadata": {
        "id": "WLL4CnZZPY1V"
      },
      "source": [
        "import pickle\n",
        "filename = '/content/drive/MyDrive/model.sav'\n",
        "pickle.dump(grid_search, open(filename, 'wb'))"
      ],
      "execution_count": null,
      "outputs": []
    },
    {
      "cell_type": "code",
      "metadata": {
        "id": "dwc7wUWZ9J9_"
      },
      "source": [
        "-+\n",
        "grid_search = pickle.load(open(filename, \"rb\"))"
      ],
      "execution_count": null,
      "outputs": []
    },
    {
      "cell_type": "markdown",
      "metadata": {
        "id": "6Yt_pWmsxyhK"
      },
      "source": [
        "### Анализ модели"
      ]
    },
    {
      "cell_type": "markdown",
      "metadata": {
        "id": "AJj6zDYCyOrN"
      },
      "source": [
        "Лучшие параметры для веторизатора и классификатора"
      ]
    },
    {
      "cell_type": "code",
      "metadata": {
        "colab": {
          "base_uri": "https://localhost:8080/"
        },
        "id": "9WdcphH5ZKAe",
        "outputId": "442ffd1c-308a-48d2-8118-1d7b45f250e5"
      },
      "source": [
        "grid_search.best_params_"
      ],
      "execution_count": null,
      "outputs": [
        {
          "output_type": "execute_result",
          "data": {
            "text/plain": [
              "{'clf__estimator': SGDClassifier(alpha=0.001, average=False, class_weight=None,\n",
              "               early_stopping=False, epsilon=0.1, eta0=0.0, fit_intercept=True,\n",
              "               l1_ratio=0.15, learning_rate='optimal', loss='modified_huber',\n",
              "               max_iter=80, n_iter_no_change=5, n_jobs=None, penalty='l2',\n",
              "               power_t=0.5, random_state=None, shuffle=True, tol=0.001,\n",
              "               validation_fraction=0.1, verbose=0, warm_start=False),\n",
              " 'clf__estimator__alpha': 0.001,\n",
              " 'clf__estimator__loss': 'modified_huber',\n",
              " 'clf__estimator__max_iter': 80,\n",
              " 'vect__max_features': None,\n",
              " 'vect__min_df': 1,\n",
              " 'vect__ngram_range': (1, 1)}"
            ]
          },
          "metadata": {
            "tags": []
          },
          "execution_count": 22
        }
      ]
    },
    {
      "cell_type": "code",
      "metadata": {
        "id": "PLr5_00ZefQc"
      },
      "source": [
        "res = (\n",
        "    pd.DataFrame({\n",
        "        \"mean_test_score\": grid_search.cv_results_[\"mean_test_score\"],\n",
        "        \"mean_fit_time\": grid_search.cv_results_[\"mean_fit_time\"]})\n",
        "      .join(pd.io.json.json_normalize(grid_search.cv_results_[\"params\"]).add_prefix(\"param_\"))\n",
        ")\n",
        "res = res.to_csv() # перевоести в cvs file\n",
        "file_res = open(\"/content/drive/MyDrive/baseline_result.txt\", \"w\")\n",
        "file_res.write(res)"
      ],
      "execution_count": null,
      "outputs": []
    },
    {
      "cell_type": "markdown",
      "metadata": {
        "id": "1Ld0OBljyhtK"
      },
      "source": [
        "### Интепритация модели\n",
        "Плюсом линейной модели является её прозрачность.\n",
        "Оценив её коэффициенты(а их столько, сколько токенов в словаре после векторизации) - мы можем сказать какие слова влияют сильнее на результат, т.е те слова по которым алгоритм классифицирует документы\n",
        "\n"
      ]
    },
    {
      "cell_type": "markdown",
      "metadata": {
        "id": "M3OJaWaL5dLp"
      },
      "source": [
        "Функция, которая выводит 10 токенов, которым соответствуют самые большие коэффициенты\n",
        "\n"
      ]
    },
    {
      "cell_type": "code",
      "metadata": {
        "id": "BC_9qakpsN_P"
      },
      "source": [
        "def most_influential_words(features, coefs, num_words=10):\n",
        "    max_coef = sorted(enumerate(coefs), key=lambda x:x[1], reverse=True)\n",
        "    return [features[x[0]] for x in max_coef[:num_words]]"
      ],
      "execution_count": null,
      "outputs": []
    },
    {
      "cell_type": "markdown",
      "metadata": {
        "id": "1AxDP8vp5Nmw"
      },
      "source": [
        "Получаем токены в словаре"
      ]
    },
    {
      "cell_type": "code",
      "metadata": {
        "colab": {
          "base_uri": "https://localhost:8080/"
        },
        "id": "0UG4GeSi9dXn",
        "outputId": "24d3eb76-06b5-499c-de47-432236b29555"
      },
      "source": [
        "features = gs_model.best_estimator_.named_steps['vect'].get_feature_names()\n",
        "print(\"Кол-во токенов в словаре: \",len(features))\n",
        "features[1000:1010]"
      ],
      "execution_count": null,
      "outputs": [
        {
          "output_type": "stream",
          "text": [
            "Кол-во токенов в словаре:  16608\n"
          ],
          "name": "stdout"
        },
        {
          "output_type": "execute_result",
          "data": {
            "text/plain": [
              "['aspect',\n",
              " 'aspects',\n",
              " 'aspirants',\n",
              " 'aspiration',\n",
              " 'aspire',\n",
              " 'aspiring',\n",
              " 'ass',\n",
              " 'assante',\n",
              " 'assasain',\n",
              " 'assassain']"
            ]
          },
          "metadata": {
            "tags": []
          },
          "execution_count": 30
        }
      ]
    },
    {
      "cell_type": "markdown",
      "metadata": {
        "id": "w6vvf_yi5QcQ"
      },
      "source": [
        "Получаем коэффициенты лин. модели"
      ]
    },
    {
      "cell_type": "code",
      "metadata": {
        "colab": {
          "base_uri": "https://localhost:8080/"
        },
        "id": "tEdUy_3Irmj6",
        "outputId": "da5bf662-af48-4345-925e-f98316c523e2"
      },
      "source": [
        "if isinstance(gs_model.best_params_.get('clf__estimator'), SGDClassifier):\n",
        "    coefs = gs_model.best_estimator_.named_steps['clf'].coef()\n",
        "print(\"Размер матрицы коеф. лин. классиф:\",coefs.shape)\n",
        "list(coefs[0])[1000:1010]"
      ],
      "execution_count": null,
      "outputs": [
        {
          "output_type": "stream",
          "text": [
            "Размер матрицы коеф. лин. классиф: (1, 16608)\n"
          ],
          "name": "stdout"
        },
        {
          "output_type": "execute_result",
          "data": {
            "text/plain": [
              "[-0.00222830121740366,\n",
              " -0.33928795239928083,\n",
              " -0.0030437983461040247,\n",
              " 0.03041990184680768,\n",
              " -0.05208349007914627,\n",
              " 0.0272305504071982,\n",
              " -0.06479012853681851,\n",
              " 0.08000766095690182,\n",
              " -0.05836563365522124,\n",
              " -0.05836563365522124]"
            ]
          },
          "metadata": {
            "tags": []
          },
          "execution_count": 49
        }
      ]
    },
    {
      "cell_type": "markdown",
      "metadata": {
        "id": "mYiCDZTE5rKT"
      },
      "source": [
        "Выводим 10 самых значимых слов для классификации\n",
        "\n",
        "---\n",
        "\n"
      ]
    },
    {
      "cell_type": "code",
      "metadata": {
        "colab": {
          "base_uri": "https://localhost:8080/"
        },
        "id": "dLiKELFqAHTU",
        "outputId": "5c6cf163-ca2a-42c2-e525-3e3d39e4c8bf"
      },
      "source": [
        "# Самые важные слова для модели\n",
        "most_influential_words(features,list(coefs[0]))"
      ],
      "execution_count": null,
      "outputs": [
        {
          "output_type": "execute_result",
          "data": {
            "text/plain": [
              "['bad',\n",
              " 'worst',\n",
              " 'awful',\n",
              " 'waste',\n",
              " 'instead',\n",
              " 'just',\n",
              " 'boring',\n",
              " 'poor',\n",
              " 'stupid',\n",
              " 'money']"
            ]
          },
          "metadata": {
            "tags": []
          },
          "execution_count": 48
        }
      ]
    },
    {
      "cell_type": "markdown",
      "metadata": {
        "id": "mzf8G-g25wAu"
      },
      "source": [
        "## Оцена модели на тестовом наборе"
      ]
    },
    {
      "cell_type": "code",
      "metadata": {
        "colab": {
          "base_uri": "https://localhost:8080/"
        },
        "id": "DeWKJbaibte3",
        "outputId": "39eb8ddd-94fe-47eb-e18c-e1fd7318bc8f"
      },
      "source": [
        "y_predicted = grid_search.predict(docs_test)\n",
        "print(metrics.classification_report(y_test, y_predicted,\n",
        "                                        target_names=['0','1']))"
      ],
      "execution_count": null,
      "outputs": [
        {
          "output_type": "stream",
          "text": [
            "              precision    recall  f1-score   support\n",
            "\n",
            "           0       0.76      0.76      0.76        51\n",
            "           1       0.76      0.76      0.76        49\n",
            "\n",
            "    accuracy                           0.76       100\n",
            "   macro avg       0.76      0.76      0.76       100\n",
            "weighted avg       0.76      0.76      0.76       100\n",
            "\n"
          ],
          "name": "stdout"
        }
      ]
    },
    {
      "cell_type": "code",
      "metadata": {
        "colab": {
          "base_uri": "https://localhost:8080/",
          "height": 309
        },
        "id": "mcGLHXngdQt2",
        "outputId": "b6cce201-746a-4173-c8f3-9f8c5c502968"
      },
      "source": [
        "cm = metrics.confusion_matrix(y_test, y_predicted)\n",
        "print(cm)\n",
        "plt.matshow(cm)\n",
        "plt.show()"
      ],
      "execution_count": null,
      "outputs": [
        {
          "output_type": "stream",
          "text": [
            "[[39 12]\n",
            " [12 37]]\n"
          ],
          "name": "stdout"
        },
        {
          "output_type": "display_data",
          "data": {
            "image/png": "[encoded data removed]",
            "text/plain": [
              "<Figure size 288x288 with 1 Axes>"
            ]
          },
          "metadata": {
            "tags": [],
            "needs_background": "light"
          }
        }
      ]
    },
    {
      "cell_type": "markdown",
      "metadata": {
        "id": "bA0ruB6KsU90"
      },
      "source": [
        "# Предобученный Word2Vec\n",
        "\n",
        "## Что такое Word2Vec?\n",
        "Word2vec это способ векторизации при, котором вектора отражают семантические взаимосвязи слов.\n",
        " \n",
        "Один из основных алгоритм обучения Word2Vec - это CBoW.\n",
        "В этой архитектуре окно(размер - гиперпараметр) скользит по тексту и в окне выделяться центральное слово, которая нейронная сеть пытаются предсказать, используя контекст - слова которые находяться рядом.\n",
        "Таким образом, нейронная сеть пытаются предсказать слово по его контексту.\n",
        "Задача, в итоге сводиться к максимизации произведения веротности каждого контекстного слова получить центральное.\n",
        " \n",
        "С этой задачей отлично справляется нейронная сеть со скрытым слоем.\n",
        "В этом скрытом слое после обучения и будут храниться векторные представления слов.\n",
        "![word2vec.png](data:image/png;base64,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)\n",
        "\n",
        "\n",
        "Слова на вход нейронной сети подаються в виде one-hot векторов."
      ]
    },
    {
      "cell_type": "markdown",
      "metadata": {
        "id": "lJRntwO72r1U"
      },
      "source": [
        "## Предобученный word2vec от Google\n",
        "\n",
        "Так как обучать Word2Vec на больших данных затруднительно, то существуют предобученные представления слов - которые обычно обучены на очень больших данных.\n",
        "Потому используя такие модели - можно сэкономить время нужное для векторизации и получить часто хорошие результаты\n"
      ]
    },
    {
      "cell_type": "markdown",
      "metadata": {
        "id": "8eyg9XYD0fDd"
      },
      "source": [
        "В качестве предобученного Word2Vec возьмем классический набор от Google, который обучен на статьях из интернета. В общей сложности эта модель обучена на 300 млд токенов. Word2Vec состоит из токенов и векторов размером 300, которые соответствуют этим токенам.\n",
        "### Скачаем эту предобученную модель"
      ]
    },
    {
      "cell_type": "code",
      "metadata": {
        "id": "mWgPIlhGsYfD",
        "colab": {
          "base_uri": "https://localhost:8080/"
        },
        "outputId": "b79d99a1-480f-4495-edf3-2ce70f842f89"
      },
      "source": [
        "%%time\n",
        "wv = Word2vec.KeyedVectors.load_word2vec_format(\n",
        "    \"/content/drive/MyDrive/GoogleNews-vectors-negative300.bin.gz\",\n",
        "    binary=True)\n",
        "wv.init_sims(replace=True)"
      ],
      "execution_count": null,
      "outputs": [
        {
          "output_type": "stream",
          "text": [
            "CPU times: user 2min 53s, sys: 6.8 s, total: 3min\n",
            "Wall time: 3min 8s\n"
          ],
          "name": "stdout"
        }
      ]
    },
    {
      "cell_type": "code",
      "metadata": {
        "colab": {
          "base_uri": "https://localhost:8080/"
        },
        "id": "p2y0A7WehJNq",
        "outputId": "cc55f10a-05f8-4810-e691-9544e83ddbfd"
      },
      "source": [
        "wv.most_similar('war')"
      ],
      "execution_count": null,
      "outputs": [
        {
          "output_type": "execute_result",
          "data": {
            "text/plain": [
              "[('wars', 0.748465895652771),\n",
              " ('War', 0.6410670280456543),\n",
              " ('invasion', 0.5892110466957092),\n",
              " ('Persian_Gulf_War', 0.5890660285949707),\n",
              " ('Vietnam_War', 0.5886474847793579),\n",
              " ('Iraq', 0.588599443435669),\n",
              " ('unwinnable_quagmire', 0.5681803226470947),\n",
              " ('un_winnable', 0.560634970664978),\n",
              " ('occupation', 0.5506216287612915),\n",
              " ('conflict', 0.5506188273429871)]"
            ]
          },
          "metadata": {
            "tags": []
          },
          "execution_count": 34
        }
      ]
    },
    {
      "cell_type": "code",
      "metadata": {
        "colab": {
          "base_uri": "https://localhost:8080/"
        },
        "id": "ZLvw9QAFjj8b",
        "outputId": "4fe28d19-2797-4424-fc89-1127b28431c1"
      },
      "source": [
        "wv.most_similar('Russia')"
      ],
      "execution_count": null,
      "outputs": [
        {
          "output_type": "execute_result",
          "data": {
            "text/plain": [
              "[('Ukraine', 0.7918288111686707),\n",
              " ('Moscow', 0.7575765252113342),\n",
              " ('Russian', 0.7464962005615234),\n",
              " ('Belarus', 0.7303562164306641),\n",
              " ('Kremlin', 0.7048990726470947),\n",
              " ('Kazakhstan', 0.6979326605796814),\n",
              " ('Russians', 0.677611231803894),\n",
              " ('Biologist_Anatoly_Kochnev', 0.6745501160621643),\n",
              " ('Azerbaijan', 0.6726992726325989),\n",
              " ('Putin', 0.6636874079704285)]"
            ]
          },
          "metadata": {
            "tags": []
          },
          "execution_count": 38
        }
      ]
    },
    {
      "cell_type": "markdown",
      "metadata": {
        "id": "9sDnweFSXl9m"
      },
      "source": [
        "### Как объединить вектора?\n",
        "Так как наш документ состоит из многих токенов, а каждый токен будет представлен вектором размером 300, то встаёт вопрос, как объединить эти вектора, чтобы они представляли документ.\n",
        "Самое эффективное решение - это просто сложить все вектора в одном документе и поделить на кол-во векторов в этом документе. Так мы получим усредненное представление о документе.\n",
        "\n",
        " "
      ]
    },
    {
      "cell_type": "markdown",
      "metadata": {
        "id": "4Wh6QzNYr_9L"
      },
      "source": [
        "### Токенизация\n",
        "Так как в базе от гугл слова учитывают регистр, то токенизировать нужно так же НЕ приводя все к нижнему регистру"
      ]
    },
    {
      "cell_type": "code",
      "metadata": {
        "id": "ZMQZPabMGegX"
      },
      "source": [
        "def w2v_tokenize_text(text):\n",
        "    tokens = []\n",
        "    for sent in nltk.sent_tokenize(text, language='english'):\n",
        "        for word in nltk.word_tokenize(sent, language='english'):\n",
        "            if len(word) < 2: #токены размером менее 2-х символов не учитываем\n",
        "                continue\n",
        "            if word in stopwords.words('english'): # стоп слова не учитываем\n",
        "                continue\n",
        "            tokens.append(word)\n",
        "    return tokens"
      ],
      "execution_count": null,
      "outputs": []
    },
    {
      "cell_type": "code",
      "metadata": {
        "id": "jzURlIovKaZ2"
      },
      "source": [
        "test_tokenized = docs_test.apply(lambda r: w2v_tokenize_text(r)).values\n",
        "train_tokenized = docs_train.apply(lambda r: w2v_tokenize_text(r)).values"
      ],
      "execution_count": null,
      "outputs": []
    },
    {
      "cell_type": "code",
      "metadata": {
        "colab": {
          "base_uri": "https://localhost:8080/"
        },
        "id": "n4lEPOIpXZMM",
        "outputId": "a14d3c8c-bf4b-48ef-c416-b2c1f385a84c"
      },
      "source": [
        "test_tokenized[:5]"
      ],
      "execution_count": null,
      "outputs": [
        {
          "output_type": "execute_result",
          "data": {
            "text/plain": [
              "array([list(['This', 'short', 'film', 'inspired', 'soon-to-be', 'full', 'length', 'feature', 'Spatula', 'Madness', 'hilarious', 'piece', 'contends', 'similar', 'cartoons', 'yielding', 'multiple', 'writers', 'The', 'short', 'film', 'stars', 'Edward', 'Spatula', 'fired', 'job', 'joins', 'fight', 'evil', 'spoons', 'This', 'premise', 'allows', 'funny', 'content', 'near', 'beginning', 'barely', 'present', 'remainder', 'feature', 'This', 'film', \"'s\", '15-minute', 'running', 'time', 'absorbed', 'odd-ball', 'comedy', 'small', 'musical', 'number', 'Unfortunately', 'much', 'else', 'lies', 'The', 'plot', 'set', \"n't\", 'really', 'time', 'show', 'But', \"'s\", 'surely', 'follows', 'plot', 'better', 'many', 'high-budget', 'Hollywood', 'films', 'This', 'film', 'worth', 'watching', 'least', 'times', 'Take', \"n't\", 'expect', 'deep', 'story']),\n",
              "       list(['It', \"n't\", 'happen', 'often', 'occasionally', 'one', 'man', 'make', 'difference', '--', 'big', 'difference.George', 'Crile', \"'s\", '2003', 'best', 'seller', 'CHARLIE', 'WILSON', \"'S\", 'WAR', 'fascinating', 'eye-opening', 'account', 'unlikely', '``', 'difference', 'maker', \"''\", 'imaginable', 'relatively', 'obscure', 'Congressman', 'Second', 'District', 'Texas', '``', 'Good', 'Time', 'Charlie', \"''\", 'known', 'libertine', 'lifestyle', 'libertarian', 'legislation', 'Likable', 'licentious', 'even', 'politician', 'Charlie', 'Wilson', 'served', 'constituency', 'well', 'since', 'good', 'folks', 'Lufkin', 'really', 'wanted', 'two', 'things', 'guns', 'left', 'alone', 'It', \"'s\", 'Easy', 'Street', 'replete', 'bevy', 'beltway', 'beauties', 'known', 'appropriately', 'enough', 'Charlie', \"'s\", 'Angels.When', 'asked', 'entire', 'office', 'staff', 'composed', 'attractive', 'young', 'aides', 'response', 'classic', '``', 'You', 'teach', \"'em\", 'type', 'ca', \"n't\", 'teach', \"'em\", 'grow', 'tits', \"''\", 'No', 'argument', 'there.But', 'even', 'rakish', 'rapscallion', 'conscience', 'lurking', 'somewhere', 'underneath', 'Charlie', 'Wilson', 'unimaginable', 'atrocities', 'committed', 'Afghanistan', 'moved', 'muster', 'entire', 'political', 'savvy', 'toward', 'funding', 'utter', 'humiliating', 'defeat', 'Russian', 'military', 'possibly', 'even', 'help', 'hasten', 'end', 'Cold', 'War', 'result', 'Fat', 'chance', 'huh', 'Under', 'skillful', 'direction', 'Mike', 'Nichols', 'smart', 'snappy', 'screenplay', 'Adam', 'Sorkin', 'CHARLIE', 'WILSON', \"'S\", 'WAR', 'sparkling', 'sophisticated', 'satire', 'chronicles', 'behind-the-', 'scene', 'machinations', 'three', 'colorful', 'characters', 'comprising', '``', 'Charlie', \"'s\", 'Team', '``', 'The', 'on-screen', '``', 'Team', \"''\", 'composed', 'three', 'marvelous', 'actors', 'four', 'Academy', 'Awards', 'nine', 'nominations', 'Charlie', 'beautifully', 'portrayed', 'Tom', 'Hanks', 'solid', 'slightly', 'understated', 'fashion', 'among', 'best', 'work', 'years', 'He', \"'s\", 'aided', 'abetted', 'abedded', 'Joanne', 'Herring', 'wealthy', 'Houston', 'socialite', 'played', 'still-slinky', 'Julia', 'Roberts', 'Hey', 'else', 'bikini', 'scene', 'let', 'world', 'know', 'By', 'accounts', 'Ms.', 'Roberts', 'looks', 'good', 'holds', 'screenplay', 'never', 'gives', 'us', 'even', 'hint', 'Kabul', 'country', 'important', 'character', 'Maybe', 'two', 'Afghan', 'hounds', 'usually', 'side', 'know', '--', 'audience', 'never', 'As', 'third', 'member', '``', 'Team', \"''\", 'Philip', 'Seymour', 'Hoffman', 'steals', 'every', 'scene', 'appears', 'Gust', 'Aurakotos', 'smart', 'street-', 'wise', 'i.e', 'non', 'Ivy', 'League', 'graduate', 'CIA', 'malcontent', 'knows', 'score', '--', 'Agency', \"'s\", 'boardroom', 'Wilson', \"'s\", 'bedroom.For', 'Mujahideen', 'succeed', 'important', 'assistance', 'U.S.', 'provide', 'ability', 'shoot', 'dreaded', 'MI-21', 'helicopter', 'gunships', 'rule', 'skies', 'This', 'takes', 'money', 'lots', 'money', 'eventually', '``', 'Charlie', \"'s\", 'Team', \"''\", 'covertly', 'coerces', 'Congress', 'fund', 'effort', 'tune', 'billion', 'dollars', 'advanced', 'weaponry', 'arm', 'Afghan', 'rebels', 'This', 'includes', 'top-of-the-line', 'state-of-the-art', 'anti-aircraft', 'anti-tank', 'rockets', 'well', 'highly', 'sophisticated', 'killing', 'devices', 'Nasty', 'nasty', 'stuff.That', 'kind', 'multi-billion', 'dollar', 'illicit', 'activity', 'take', 'place', 'behind', 'Congressional', 'doors', 'truly', 'alarming', 'Every', 'American', 'see', 'movie', 'read', 'book', 'reveals', 'truly', 'frightening', 'aspect', 'business-as-usual', 'political', 'scene', 'rarely', 'seen', 'outside', 'walls', 'government', 'Oh', 'momma', 'wish', \"n't\", '...', 'Even', 'though', 'initial', 'outcome', '``', 'Team', 'Charlie', \"''\", 'unqualified', 'success', 'unimaginable', 'unanticipated', 'final', 'result', 'sophisticated', 'weapons', 'used', 'troops', 'Taliban', 'others', 'Since', 'funding', 'entirely', '``', 'covert', \"''\", 'young', 'generation', 'part', 'world', 'idea', 'fall', 'Soviet', 'oppression', 'end', 'Russian', 'barbarity', 'direct', 'result', 'American', 'intervention', 'Yes', 'Russkies', 'left', 'aid', '--', 'zip', 'schools', 'zip', 'infrastructure', 'zip', 'maintaining', 'meaningful', 'relationships', 'Afghan', 'people', 'As', 'result', 'overall', 'consequence', 'unmitigated', 'disaster', '--', \"'s\", 'like', 'forerunner', '``', 'Mission', 'Accomplished', '``', 'As', 'Nichol', \"'s\", 'film', 'pointedly', 'points', '``', 'The', 'ball', \"'ve\", 'set', 'motion', 'keep', 'bouncing', 'even', \"'ve\", 'lost', 'interest', \"''\", 'Mike', 'Krzyzewski', 'knows', 'Eva', 'Longoria', 'Parker', 'knows', 'little', 'Lateesha', 'Lafayette', 'knows', 'typical', 'American', 'politician', \"n't\", 'So', 'go', 'good', 'guys', 'bad', 'guys', 'could', \"n't\", 'let', 'world', 'know', 'good', 'guys', 'Talk', 'Catch-22', 'another', 'Mike', 'Nichols', 'film', '.Perhaps', 'Charlie', 'Wilson', 'said', 'best', '``', 'We', 'ked', 'end', 'game', '``', 'Again']),\n",
              "       list(['*Criticism', 'mention', 'spoilers*I', 'rarely', 'make', 'user', 'comments', 'one', 'movie', 'problem', 'slandering', 'This', 'movie', 'stinks', 'mediocre', 'rating', 'half', 'stars', 'probably', 'high', 'pulp', 'The', 'Bone', 'Collector', 'calibre', 'film', 'Silence', 'Lambs', 'Seven', 'despite', 'ad', 'claims', 'This', 'perfect', 'example', 'make', 'thriller', 'The', 'pace', 'movie', 'extremely', 'slow-', 'actually', 'left', '10', 'minutes', 'half-way', 'came', 'back', 'exact', 'scene', 'exact', 'character', 'absolutely', 'progression', 'refer', 'part', 'Angelina', 'Jolie', \"'s\", 'character', 'debates', 'Denzel', 'cutting', 'corpse', 'hands', 'The', 'movie', 'scary', 'tries', 'compensate', 'love-subplot', 'albeit', 'sexy', 'Angelina', 'Jolie', \"'s\", 'character', 'Denzel', 'Washington', \"'s\", 'Of', 'course', 'get', 'something', 'comparable', 'mentor-student', 'relationship', 'seen', 'brillian', 'epic', 'Silence', 'Lambs', 'Hannibal', 'Lecter', 'Starling', 'however', 'even', 'lacks', 'effectiveness', 'personally', 'routing', 'villain', 'kill', 'Denzel', 'avoid', 'hackneyed', 'giggles', 'two', 'With', 'crappy', 'movie', 'half-expecting', 'plot-twist', 'sort', 'spectacular', 'situation', 'occur', 'end', 'give', 'movie', 'credit-', 'things', 'mediocre', 'movies', 'like', 'Arlington', 'Road', 'Scream', 'pulled', 'Anybody', '4th', 'grade', 'education', 'see', 'ending', 'resolved', 'situation', 'mimicks', 'Alfred', 'Hitchcock', \"'s\", 'Rear', 'Window', 'The', 'cliche', 'killer', 'explain', 'motives', 'uninspired', 'enough', 'reason', 'ridiculous', 'stupid', 'spewing', 'latte', 'screen', 'Esoterically', 'speaking', 'even', 'think', 'murderer', \"'s\", 'intention', 'completely', 'lost', 'Denzel', 'happily', 'recovers', 'loss', 'proverbial', \"'chess\", 'game', 'gets', 'pet', 'project', 'Angelina.If', 'fan', 'movies', 'original', 'ideas', 'genuinely', 'dynamic', 'concepts', 'like', 'appreciate', 'film', 'If', 'attended', 'single', 'movie', 'life', 'would', 'like', 'catch-up', 'every', 'single', 'Hollywood', 'cliche', 'ever', 'borne', 'late-night', 'knock', 'window', 'somebody', 'else', 'murderer', 'ridiculous', 'serial-killer', 'prime', 'investigator', 'relationship', 'horrible', \"'woman\", 'trying', 'get', 'all-male', 'dominated', 'workforce', 'aka', 'SOTL', 'see', 'movie', '...', '.but', 'even', 'slow-paced', \"'d\", 'bored']),\n",
              "       list(['film', 'mature', 'educated', 'audiences', '...', 'saw', '``', 'Random', 'Hearts', \"''\", 'advance', 'screening', 'shortly', 'North', 'American', 'release', 'This', 'romantic', 'drama', 'quite', 'treat', \"'m\", 'sure', 'story', 'everyone', \"'s\", 'cup', 'tea', 'especially', 'considering', 'film', \"'s\", 'darkly', 'downbeat', 'premise', 'But', 'pic', 'uplifting', 'strong', 'points', 'favor.All-time', 'Box', 'Office', 'Draw', 'Harrison', 'Ford', '``', 'Star', 'Wars', \"''\", '``', 'Raiders', 'Lost', 'Ark', \"''\", '``', 'The', 'Fugitive', \"''\", '``', 'Air', 'Force', 'One', \"''\", '``', 'Patriot', 'Games', \"''\", 'top', 'game', 'harried', 'desperate', 'Internal', 'Affairs', 'officer', 'Dutch', 'Ford', \"'s\", 'subdued', 'nuanced', 'performance', 'shows', 'quite', 'range', 'achieve', 'class', 'determination', 'bringing', 'audience', 'world', 'loss', 'betrayal', 'This', 'perfect', 'complex', 'role', 'different', 'type', 'film', 'Harrison', 'Ford', 'grace', 'screen', 'action', 'blockbusters', 'Next', 'year', 'Harrison', 'Ford', 'returns', 'action', 'first', 'director', 'Robert', 'Zemeckis', '``', 'Forrest', 'Gump', \"''\", '``', 'Back', 'To', 'The', 'Future', \"''\", 'summer', '2000', 'thriller', '``', 'What', 'Lies', 'Beneath', \"''\", 'reportedly', 'later', 'year', 'film', 'adaptation', 'Tom', 'Clancy', \"'s\", '``', 'The', 'Sum', 'Of', 'All', 'Fears', \"''\", \"'Fears\", 'Harrison', 'Ford', \"'s\", 'third', 'outing', 'CIA', 'operative', 'Jack', 'Ryan.Director', 'Sydney', 'Pollack', '``', 'Out', 'Africa', \"''\", '``', 'The', 'Firm', \"''\", '``', 'Tootsie', \"''\", 'supporting', 'role', 'feature', 'political', 'advisor', 'Scott-Thomas', 'congresswoman', 'It', \"'s\", 'sharp', 'energetic', 'portrayal', 'Pollack', 'Not', 'Sydney', 'Pollack', 'gifted', 'director', 'also', 'one', 'believable', 'natural', 'charming', 'actors', 'around', 'see', '``', 'Eyes', 'Wide', 'Shut', \"''\", 'well', '.Kristin', 'Scott-Thomas', '``', 'The', 'English', 'Patient', \"''\", '``', 'The', 'Horse', 'Whisperer', \"''\", 'shows', \"n't\", 'necessarily', 'eccentric', 'worldly', 'considered', 'sexy', 'This', 'one', 'better', 'films', 'gives', 'tremendously', 'crafted', 'mellowed', 'performance', 'works', 'well', 'opposite', 'Ford', \"'s\", 'quiet-man', 'toughness.The', 'subplots', 'work', 'wonderfully', 'especially', 'subplot', 'involving', 'Ford', \"'s\", 'character', \"'s\", 'investigation', 'police', 'corruption', 'Look', 'chilling', 'effective', 'turn', '``', 'Heat', \"''\", 'actor', 'Dennis', 'Haysbert', 'plays', 'Detective', 'George', 'Beaufort', 'obstacle', 'overcome', 'Dutch', \"'s\", 'investigation', 'police', 'corruption.The', 'rest', 'supporting', 'cast', 'wonderful', 'delight', 'Charles', 'S.', 'Dutton', 'whose', 'long', 'overdue', 'film', 'leading', 'role', 'goes', 'show', 'one', 'best', 'character-actors', 'around', 'Bonnie', 'Hunt', 'find', 'extremely', 'solid', 'production', 'steals', 'scenes', 'wonderful', 'charming', 'smile', 'Wendy', 'Judd.The', 'technical', 'side', 'Pollack', \"'s\", 'thriller', 'top', 'notched', 'From', 'Dave', 'Grusin', \"'s\", 'Pollack', \"'s\", '``', 'The', 'Firm', \"''\", 'perfectly', 'surreal-feeling', 'jazzy', 'score', 'Philippe', 'Rousselot', '``', 'River', 'Runs', 'Through', 'It', \"''\", 'crisp', 'photography', 'sharp', 'editing', 'keeps', 'film', 'feeling', 'fresh', 'despite', 'film', \"'s\", 'unfortunate', 'downer', 'premise.I', 'highly', 'recommend', 'film', 'anyone', 'enjoys', 'good', 'yarn', 'mystery', 'well-paced', 'plot', 'character-driven', 'stories', 'romance', 'rolled', 'one', 'This', 'terrific', 'story', 'betrayal', 'forgiveness', 'It', 'also', 'features', 'one', 'surprising', 'yet', 'poignant', 'certain', 'controversial', 'endings', 'Harrison', 'Ford', 'film', 'recent', 'times', '``', 'Random', 'Hearts', \"''\", 'definitely', 'one', 'better', 'films', 'year', '***1/2', '****', '8.5', '10.0']),\n",
              "       list(['caught', 'television', 'one', 'day', 'young', 'loved', 'In', '1970', \"'s\", 'bunch', 'lame', 'comedies', 'tried', 'hard', 'funny', 'nice', 'surprise', 'It', \"'s\", 'one', 'best', 'comedies', '1970', \"'s\", 'definitive', 'summer', 'camp', 'comedy', 'thanks', 'Murrary', \"'s\", 'excellent', 'comedic', 'performance', 'still', 'stands', 'one', 'greatest', 'This', 'film', 'really', 'got', 'Ivan', 'Reitman', 'noticed', 'director', 'Reitman', 'proves', 'movie', 'one', 'talented', 'comedy', 'directors', 'time', 'While', 'film', 'hilarious', 'MEATBALLS', 'bad', \"'s\", 'fun', 'MEATBALLS', 'MEATBALLS', 'absolutely', 'dreadful', 'Recommended', 'enjoyed', 'STRIPES', 'GHOSTBUSTERS'])],\n",
              "      dtype=object)"
            ]
          },
          "metadata": {
            "tags": []
          },
          "execution_count": 32
        }
      ]
    },
    {
      "cell_type": "markdown",
      "metadata": {
        "id": "drkVmt_-Xp-m"
      },
      "source": [
        "### Перевод токенов в векторы и усреднение\n",
        "Следующие функции, ищут для каждого токена в документе, такой же токен в базе Word2Vec и меняют на соответствующий ему вектор.\n",
        "Если, токен в базе не найден, его просто пропускают.\n",
        "Далее, для каждого документа усредняют все вектора.\n",
        "В итоге каждому документу будет соответствовать токен размером 300\n",
        " \n",
        "\n"
      ]
    },
    {
      "cell_type": "code",
      "metadata": {
        "id": "XiJLQzTgX1p8"
      },
      "source": [
        "def document_averaging(wv, words):\n",
        "    #all_words = set()\n",
        "    mean = []\n",
        "    \n",
        "    for word in words:\n",
        "        if isinstance(word, np.ndarray): #если слово уже представленно в вектрной форме\n",
        "            mean.append(word)\n",
        "        elif word in wv.vocab: #иначе ищем слово в нашей предобученной базе\n",
        "            mean.append(wv.syn0norm[wv.vocab[word].index]) # добавить в mean нормализованный вектор\n",
        "            #all_words.add(wv.vocab[word].index)\n",
        "\n",
        "    if not mean:\n",
        "        print(\"В документе нет слов из предобученной базы%s\", words)\n",
        "        return np.zeros(wv.layer1_size,) # В этом случае вернем нулевой вектор\n",
        "\n",
        "    mean = unitvec(np.array(mean).mean(axis=0)).astype(np.float32) # усредняем вектора\n",
        "    return mean"
      ],
      "execution_count": null,
      "outputs": []
    },
    {
      "cell_type": "code",
      "metadata": {
        "id": "lruLck1iX1uM"
      },
      "source": [
        "def corpus_vectorize(wv, text_list):\n",
        "    return np.vstack([document_averaging(wv, review) for review in text_list ])"
      ],
      "execution_count": null,
      "outputs": []
    },
    {
      "cell_type": "code",
      "metadata": {
        "colab": {
          "base_uri": "https://localhost:8080/"
        },
        "id": "Joi4FQXjKpMT",
        "outputId": "5ccbf4ad-ce99-427f-d44d-2d298e566796"
      },
      "source": [
        "%%time\n",
        "X_train_word_average = corpus_vectorize(wv,train_tokenized)\n",
        "X_test_word_average = corpus_vectorize(wv,test_tokenized)"
      ],
      "execution_count": null,
      "outputs": [
        {
          "output_type": "stream",
          "text": [
            "/usr/local/lib/python3.7/dist-packages/ipykernel_launcher.py:9: DeprecationWarning: Call to deprecated `syn0norm` (Attribute will be removed in 4.0.0, use self.wv.vectors_norm instead).\n",
            "  if __name__ == '__main__':\n"
          ],
          "name": "stderr"
        }
      ]
    },
    {
      "cell_type": "code",
      "metadata": {
        "colab": {
          "base_uri": "https://localhost:8080/"
        },
        "id": "42e_AAQniyWB",
        "outputId": "7e48daf0-d926-42f6-97a8-3fbfd6ecbabe"
      },
      "source": [
        "print(\"Test \", X_test_word_average.shape)\n",
        "print(\"Train \", X_train_word_average.shape)\n",
        "X_test_word_average[:10]"
      ],
      "execution_count": null,
      "outputs": [
        {
          "output_type": "stream",
          "text": [
            "Test  (100, 300)\n",
            "Train  (900, 300)\n"
          ],
          "name": "stdout"
        },
        {
          "output_type": "execute_result",
          "data": {
            "text/plain": [
              "array([[ 0.01511425,  0.05774714, -0.00480706, ..., -0.03070359,\n",
              "         0.02221176, -0.04859292],\n",
              "       [ 0.04916461,  0.04138976, -0.00734687, ..., -0.0630651 ,\n",
              "         0.04854797,  0.0105641 ],\n",
              "       [ 0.08379324,  0.02860234, -0.01590703, ..., -0.05149863,\n",
              "         0.01923489, -0.00306875],\n",
              "       ...,\n",
              "       [ 0.05629408,  0.06181437,  0.01504644, ..., -0.01784205,\n",
              "         0.04390616, -0.04075214],\n",
              "       [ 0.08985061,  0.07480986, -0.01807079, ..., -0.05890295,\n",
              "         0.04971485,  0.02854544],\n",
              "       [ 0.04300767,  0.0554245 ,  0.00320187, ..., -0.04623767,\n",
              "         0.07148967,  0.01956834]], dtype=float32)"
            ]
          },
          "metadata": {
            "tags": []
          },
          "execution_count": 45
        }
      ]
    },
    {
      "cell_type": "markdown",
      "metadata": {
        "id": "cM7_MKE2j7JJ"
      },
      "source": [
        "### Обучеаем пиплайн на полученных данных "
      ]
    },
    {
      "cell_type": "code",
      "metadata": {
        "id": "PuaRsvHHjNTB"
      },
      "source": [
        "pipeline_avrg_word_2_vec = Pipeline([\n",
        "        ('clf', ClfSwitcher())\n",
        "])"
      ],
      "execution_count": null,
      "outputs": []
    },
    {
      "cell_type": "code",
      "metadata": {
        "id": "o-u3qQomkLXW"
      },
      "source": [
        "parameters = [\n",
        "    {\n",
        "    #Линейный классифектор\n",
        "        'clf__estimator': [SGDClassifier()], # SVM == loss\n",
        "        'clf__estimator__max_iter': [30,50,80],\n",
        "        'clf__estimator__alpha': [0.001, 0.0001],\n",
        "        'clf__estimator__loss': ['hinge', 'log', 'modified_huber'],\n",
        "    },\n",
        "    {\n",
        "     #K-ближайших соседей\n",
        "        'clf__estimator': [KNeighborsClassifier(n_jobs=-1)],\n",
        "        'clf__estimator__n_neighbors':[3, 5],\n",
        "        'clf__estimator__metric':['minkowski', 'cosine']\n",
        "    },\n",
        "    {\n",
        "     #Решающие деревья\n",
        "        'clf__estimator': [RandomForestClassifier(n_jobs=-1)],\n",
        "        'clf__estimator__n_estimators': [50, 100],\n",
        "        'clf__estimator__max_depth':[3, 5, 10]\n",
        "    }\n",
        "]"
      ],
      "execution_count": null,
      "outputs": []
    },
    {
      "cell_type": "code",
      "metadata": {
        "id": "ju0LEU2GkcPk"
      },
      "source": [
        "%%time\n",
        "grid_search = GridSearchCV(pipeline_avrg_word_2_vec, parameters, n_jobs=-1)\n",
        "grid_search.fit(X_train_word_average, y_train)"
      ],
      "execution_count": null,
      "outputs": []
    },
    {
      "cell_type": "code",
      "metadata": {
        "colab": {
          "base_uri": "https://localhost:8080/"
        },
        "id": "2aUJAQ5-k82g",
        "outputId": "eb5d36e2-9a64-4a80-d6b3-f9ada4f1b8f0"
      },
      "source": [
        "grid_search.best_params_"
      ],
      "execution_count": null,
      "outputs": [
        {
          "output_type": "execute_result",
          "data": {
            "text/plain": [
              "{'clf__estimator': SGDClassifier(alpha=0.001, average=False, class_weight=None,\n",
              "               early_stopping=False, epsilon=0.1, eta0=0.0, fit_intercept=True,\n",
              "               l1_ratio=0.15, learning_rate='optimal', loss='modified_huber',\n",
              "               max_iter=30, n_iter_no_change=5, n_jobs=None, penalty='l2',\n",
              "               power_t=0.5, random_state=None, shuffle=True, tol=0.001,\n",
              "               validation_fraction=0.1, verbose=0, warm_start=False),\n",
              " 'clf__estimator__alpha': 0.001,\n",
              " 'clf__estimator__loss': 'modified_huber',\n",
              " 'clf__estimator__max_iter': 30}"
            ]
          },
          "metadata": {
            "tags": []
          },
          "execution_count": 54
        }
      ]
    },
    {
      "cell_type": "code",
      "metadata": {
        "id": "X52isGOEsqX7"
      },
      "source": [
        "res = (\n",
        "    pd.DataFrame({\n",
        "        \"mean_test_score\": grid_search.cv_results_[\"mean_test_score\"],\n",
        "        \"mean_fit_time\": grid_search.cv_results_[\"mean_fit_time\"]})\n",
        "      .join(pd.io.json.json_normalize(grid_search.cv_results_[\"params\"]).add_prefix(\"param_\"))\n",
        ")\n",
        "res = res.to_csv() # перевоести в cvs file\n",
        "file_res = open(\"/content/drive/MyDrive/word2vec_result.txt\", \"w\")\n",
        "file_res.write(res)"
      ],
      "execution_count": null,
      "outputs": []
    },
    {
      "cell_type": "code",
      "metadata": {
        "colab": {
          "base_uri": "https://localhost:8080/"
        },
        "id": "IrFmGGBwlEpr",
        "outputId": "e9737a2b-cb66-4496-8b21-c0ee0c0c8dc4"
      },
      "source": [
        "y_predicted = grid_search.predict(X_test_word_average)\n",
        "print(metrics.classification_report(y_test, y_predicted,\n",
        "                                        target_names=['0','1']))"
      ],
      "execution_count": null,
      "outputs": [
        {
          "output_type": "stream",
          "text": [
            "              precision    recall  f1-score   support\n",
            "\n",
            "           0       0.71      0.81      0.75        36\n",
            "           1       0.88      0.81      0.85        64\n",
            "\n",
            "    accuracy                           0.81       100\n",
            "   macro avg       0.79      0.81      0.80       100\n",
            "weighted avg       0.82      0.81      0.81       100\n",
            "\n"
          ],
          "name": "stdout"
        }
      ]
    },
    {
      "cell_type": "markdown",
      "metadata": {
        "id": "fjLRu8n4PJSN"
      },
      "source": [
        "# Реализация Doc2Vec\n",
        "Doc2Vec это модификация Word2Vec созданная для того чтобы переводить целый документ в вектор, а не отдельное слово.\n",
        "Отличие модели состоит в том, что мы подсказывая слова по контексту учитываем не только слово, но и тэг документа, в нашем случае 2 тэга - positive, negative.\n",
        "Схема нерйонной сети выглядит так:\n",
        "![DdKR0aAXUAE7IyW.jpg](data:image/jpeg;base64,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)\n",
        "\n",
        "Paragraph Id - и есть тэг документа.\n",
        "При том тэг документа это тоже вектор из того же пространства, что и слова.\n",
        "В итоге Doc2Vec учиться предсказывать слова по контексту и по тэгу этого документа.\n",
        "Формула выглядит так:\n",
        "\n",
        "![666.png](data:image/png;base64,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)\n",
        "\n",
        "\n",
        "Где, Vout - предсказываемые слово,  Vin - слово из  контекста, sentiment - тэг документа, в наше случае { positive negative },"
      ]
    },
    {
      "cell_type": "markdown",
      "metadata": {
        "id": "yYdHlI9woRDz"
      },
      "source": [
        "### Функция для токенизации\n",
        "В этот раз токенизируем без учета регистра"
      ]
    },
    {
      "cell_type": "code",
      "metadata": {
        "id": "iFCfOKoH2U0P"
      },
      "source": [
        "def tokenize_text(text):\n",
        "    tokens = []\n",
        "    for sent in nltk.sent_tokenize(text):\n",
        "        for word in nltk.word_tokenize(sent):\n",
        "            if len(word) < 2:\n",
        "                continue\n",
        "            tokens.append(word.lower()) # в этом случае приводим к нижнему регистру\n",
        "    return tokens"
      ],
      "execution_count": null,
      "outputs": []
    },
    {
      "cell_type": "code",
      "metadata": {
        "id": "R1FjyPwt6Pqc"
      },
      "source": [
        "train_data, test_data = train_test_split(data, test_size=0.1, random_state=42)"
      ],
      "execution_count": null,
      "outputs": []
    },
    {
      "cell_type": "code",
      "metadata": {
        "colab": {
          "base_uri": "https://localhost:8080/"
        },
        "id": "FxTLVXiF6T3g",
        "outputId": "b333679a-d0ab-463d-e6ef-896aca97f689"
      },
      "source": [
        "print(\"Test data shape \",test_data.shape)\n",
        "print(\"Train data shape \",train_data.shape)"
      ],
      "execution_count": null,
      "outputs": [
        {
          "output_type": "stream",
          "text": [
            "Test data shape  (5000, 2)\n",
            "Train data shape  (45000, 2)\n"
          ],
          "name": "stdout"
        }
      ]
    },
    {
      "cell_type": "markdown",
      "metadata": {
        "id": "u7g_SaDroaNe"
      },
      "source": [
        "### Предствление данных в нужном виде\n",
        "TaggedDocument - это специльный тип данных применямый в библиотеке Gensim.\n",
        "Имеет слеудующую структуру:\n",
        "`TaggedDocument(words=['word1','word2', ..., 'wordn'], tags=['doc_tag'])`\n"
      ]
    },
    {
      "cell_type": "code",
      "metadata": {
        "id": "aGEaOJGoBsdw"
      },
      "source": [
        "%%time\n",
        "train_tagged = train_data.apply(lambda r: TaggedDocument(words=tokenize_text(r['review']), tags=[r['sentiment']]), axis=1)\n",
        "test_tagged = test_data.apply(lambda r: TaggedDocument(words=tokenize_text(r['review']), tags=[r['sentiment']]), axis=1)"
      ],
      "execution_count": null,
      "outputs": []
    },
    {
      "cell_type": "code",
      "metadata": {
        "colab": {
          "base_uri": "https://localhost:8080/"
        },
        "id": "62PjghZAsug6",
        "outputId": "6fa473d8-3500-4c11-dafa-cff63c5816c9"
      },
      "source": [
        "type(train_tagged)"
      ],
      "execution_count": null,
      "outputs": [
        {
          "output_type": "execute_result",
          "data": {
            "text/plain": [
              "pandas.core.series.Series"
            ]
          },
          "metadata": {
            "tags": []
          },
          "execution_count": 13
        }
      ]
    },
    {
      "cell_type": "code",
      "metadata": {
        "colab": {
          "base_uri": "https://localhost:8080/"
        },
        "id": "FzWffqAN_zH7",
        "outputId": "2ad09780-28a1-4bca-bf3b-1187331b1ba4"
      },
      "source": [
        "train_set = train_tagged.values\n",
        "test_set = test_tagged.values\n",
        "print(type(train_set))\n",
        "train_set[2]"
      ],
      "execution_count": null,
      "outputs": [
        {
          "output_type": "stream",
          "text": [
            "<class 'numpy.ndarray'>\n"
          ],
          "name": "stdout"
        },
        {
          "output_type": "execute_result",
          "data": {
            "text/plain": [
              "TaggedDocument(words=['remember', 'loved', 'this', 'movie', 'when', 'it', 'came', 'out', 'was', '12', 'years', 'old', 'had', 'commodore', '64', 'and', 'loved', 'to', 'play', 'rambo', 'on', 'it', 'was', 'therefore', 'really', 'thrilled', 'when', 'got', 'to', 'buy', 'this', 'movie', 'really', 'cheap', 'put', 'it', 'in', 'my', 'vcr', 'and', 'started', 'up', 'man', 'this', 'movie', 'is', 'really', 'bad', 'sylvester', 'stallone', 'says', 'like', 'words', 'in', 'the', 'entire', 'movie', 'except', 'for', 'that', 'awful', 'sentimental', 'speech', 'at', 'the', 'end', 'and', 'has', 'the', 'same', 'expression', 'on', 'his', 'face', 'all', 'the', 'way', 'and', 'that', 'stupid', 'love', 'thing', 'in', 'the', 'middle', 'it', \"'s\", 'just', 'so', 'amazingly', 'predictable', 'just', 'ended', 'up', 'fast', 'forwarding', 'the', 'entire', 'thing', 'and', 'went', 'to', 'exchange', 'the', 'movie', 'for', 'something', 'else'], tags=['negative'])"
            ]
          },
          "metadata": {
            "tags": []
          },
          "execution_count": 15
        }
      ]
    },
    {
      "cell_type": "markdown",
      "metadata": {
        "id": "UXGDfx-Soqfx"
      },
      "source": [
        "### Создаем Doc2vec модель\n",
        "\n",
        "Doc2Vec - модель в Gensim. В качестве параметров передаем размер векторов, равный 100, кол-во эпох для обучений - 10, кол-во параллельных потоков - 4, и порог, токены, длина которых меньше потока не учитывается, поставим 2.\n",
        "\n",
        "*Заметим, что словарь мы строим только на учебной выборке, потому что, Doc2Vec модель учитываем в своем построении лейблы. Соответственно, учитывая тестовую выборку мы бы получили \"нечестный\" результат.*"
      ]
    },
    {
      "cell_type": "code",
      "metadata": {
        "colab": {
          "base_uri": "https://localhost:8080/"
        },
        "id": "ggzw1DYi8ClT",
        "outputId": "f8a187a9-a0ef-4db4-902d-e0816bb27f0c"
      },
      "source": [
        "%%time\n",
        "doc2vec_model = Doc2Vec(vector_size=100, epoch=10, workers=4, min_count=2)\n",
        "doc2vec_model.build_vocab(train_set) #создаём словарь на основе слов из учебного набора"
      ],
      "execution_count": null,
      "outputs": [
        {
          "output_type": "stream",
          "text": [
            "CPU times: user 18.9 s, sys: 383 ms, total: 19.3 s\n",
            "Wall time: 19.1 s\n"
          ],
          "name": "stdout"
        }
      ]
    },
    {
      "cell_type": "markdown",
      "metadata": {
        "id": "fIHRipGRoIte"
      },
      "source": [
        "Можем посмотреть как распределено пространство векторов-слов ДО обучения.\n",
        "Пока они заданы случайно"
      ]
    },
    {
      "cell_type": "code",
      "metadata": {
        "colab": {
          "base_uri": "https://localhost:8080/"
        },
        "id": "9WiLBAiMBdxz",
        "outputId": "e8075ac6-cdf1-426e-a685-7a1671ad2ffd"
      },
      "source": [
        "doc2vec_model.wv.most_similar('love')"
      ],
      "execution_count": null,
      "outputs": [
        {
          "output_type": "execute_result",
          "data": {
            "text/plain": [
              "[('felon', 0.4220987558364868),\n",
              " ('check-out', 0.386412650346756),\n",
              " ('much-praised', 0.3857314884662628),\n",
              " ('kitting', 0.38517633080482483),\n",
              " ('morricone', 0.3850194811820984),\n",
              " ('capitan', 0.38111060857772827),\n",
              " ('tenuta', 0.38109132647514343),\n",
              " ('elements.', 0.3780902624130249),\n",
              " ('nagging', 0.37369418144226074),\n",
              " ('adorable', 0.36234182119369507)]"
            ]
          },
          "metadata": {
            "tags": []
          },
          "execution_count": 23
        }
      ]
    },
    {
      "cell_type": "markdown",
      "metadata": {
        "id": "Lga5t-ydo7KM"
      },
      "source": [
        "### Обучаем нашу Doc2Vec модель\n"
      ]
    },
    {
      "cell_type": "code",
      "metadata": {
        "id": "lgzIih3ORt8M",
        "colab": {
          "base_uri": "https://localhost:8080/"
        },
        "outputId": "cf32fb1b-f722-43b1-e93b-5417c231d5be"
      },
      "source": [
        "%%time\n",
        "shuffled_data = train_set\n",
        "shuffle(shuffled_data)\n",
        "\n",
        "doc2vec_model.train(shuffled_data, total_examples=doc2vec_model.corpus_count, epochs=doc2vec_model.epochs)"
      ],
      "execution_count": null,
      "outputs": [
        {
          "output_type": "stream",
          "text": [
            "CPU times: user 3min 32s, sys: 8.34 s, total: 3min 40s\n",
            "Wall time: 2min 11s\n"
          ],
          "name": "stdout"
        }
      ]
    },
    {
      "cell_type": "markdown",
      "metadata": {
        "id": "MZ4s-BGmpLvW"
      },
      "source": [
        "Теперь посмотрим на наши векторы-слова после обучения. Как видно модель хорошо \"понимает\" взаимосвязи слов."
      ]
    },
    {
      "cell_type": "code",
      "metadata": {
        "colab": {
          "base_uri": "https://localhost:8080/"
        },
        "id": "XYG9gC1rdCW5",
        "outputId": "a440599c-bd2b-48ef-df43-c8e441fc5e58"
      },
      "source": [
        "doc2vec_model.wv.most_similar('love')"
      ],
      "execution_count": null,
      "outputs": [
        {
          "output_type": "execute_result",
          "data": {
            "text/plain": [
              "[('bermuda', 0.6078721880912781),\n",
              " ('hate', 0.5960900783538818),\n",
              " ('loved', 0.5516137480735779),\n",
              " ('romance', 0.5423826575279236),\n",
              " ('loves', 0.5297703146934509),\n",
              " ('asleep', 0.5217414498329163),\n",
              " ('adore', 0.5216610431671143),\n",
              " (\"'love\", 0.5134961009025574),\n",
              " ('romantic', 0.5127507448196411),\n",
              " ('enjoy', 0.5057467222213745)]"
            ]
          },
          "metadata": {
            "tags": []
          },
          "execution_count": 27
        }
      ]
    },
    {
      "cell_type": "code",
      "metadata": {
        "colab": {
          "base_uri": "https://localhost:8080/"
        },
        "id": "39cHkqL0LZrQ",
        "outputId": "60d42254-011c-4688-9d23-f907856f1895"
      },
      "source": [
        "doc2vec_model.wv.most_similar('10/10')"
      ],
      "execution_count": null,
      "outputs": [
        {
          "output_type": "execute_result",
          "data": {
            "text/plain": [
              "[('9/10', 0.9019933938980103),\n",
              " ('7/10', 0.8846228718757629),\n",
              " ('8/10', 0.8688827157020569),\n",
              " ('4/10', 0.8445665836334229),\n",
              " ('3/10', 0.8246670961380005),\n",
              " ('1/10', 0.8211511373519897),\n",
              " ('2/10', 0.7916969060897827),\n",
              " ('8.5/10', 0.7681076526641846),\n",
              " ('0/10', 0.7670487761497498),\n",
              " ('a-', 0.7411304116249084)]"
            ]
          },
          "metadata": {
            "tags": []
          },
          "execution_count": 28
        }
      ]
    },
    {
      "cell_type": "markdown",
      "metadata": {
        "id": "GQG-y9sdo6kX"
      },
      "source": [
        "Так же можем посмотреть вектора тэгов, как сказано выше, они тоже находяться в этом пространсве."
      ]
    },
    {
      "cell_type": "code",
      "metadata": {
        "colab": {
          "base_uri": "https://localhost:8080/"
        },
        "id": "9M8-chK_pEfQ",
        "outputId": "59b8f999-fa67-4daf-ca26-d015f34f3651"
      },
      "source": [
        "doc2vec_model.docvecs.doctags"
      ],
      "execution_count": null,
      "outputs": [
        {
          "output_type": "execute_result",
          "data": {
            "text/plain": [
              "{'negative': Doctag(offset=1, word_count=5143499, doc_count=22519),\n",
              " 'positive': Doctag(offset=0, word_count=5204718, doc_count=22481)}"
            ]
          },
          "metadata": {
            "tags": []
          },
          "execution_count": 29
        }
      ]
    },
    {
      "cell_type": "code",
      "metadata": {
        "id": "2zYOilUIXD-x"
      },
      "source": [
        "doc2vec_model.docvecs.vectors_docs"
      ],
      "execution_count": null,
      "outputs": []
    },
    {
      "cell_type": "markdown",
      "metadata": {
        "id": "nXnfJ2T5Xw7j"
      },
      "source": [
        "### Как получить вектор документ?\n",
        "Теперь когда мы обучили модель, мы можем получить вектор документа, которого не видели ранее. Т.е того документа, чей тэг мы не знаем.\n",
        "Для этого существует функция `infer_vector(docunent=[‘word1,’word2’,...’wordn’’])`\n",
        "Это функция инициализирует случайный вектор-документ. Далее на вход обученной нейронной сети подаются слова из документа, которые уже есть в словаре модели. Веса для слов и для softmax фиксируется. И далее вектор-документ получается градиентным спуском."
      ]
    },
    {
      "cell_type": "code",
      "metadata": {
        "colab": {
          "base_uri": "https://localhost:8080/"
        },
        "id": "4vtVDt3jeifx",
        "outputId": "def16744-bff1-4302-8134-da6c5c29ddee"
      },
      "source": [
        "doc2vec_model.infer_vector(train_set[1].words)"
      ],
      "execution_count": null,
      "outputs": [
        {
          "output_type": "execute_result",
          "data": {
            "text/plain": [
              "array([-0.13665192, -0.52492726,  0.29101366,  0.40536913,  0.9231603 ,\n",
              "       -0.13035001,  0.5970092 ,  0.27227658, -0.4664432 , -0.48681343,\n",
              "       -0.2930689 ,  0.06168871,  0.16972253,  0.6611749 , -0.08096612,\n",
              "        0.35138977, -0.48771155,  0.43734357, -0.7073968 ,  0.45485356,\n",
              "        0.17278606, -0.00500272,  0.4114609 , -0.40620422,  0.76095927,\n",
              "       -0.23196684, -0.25359136, -0.27489895,  0.85835725, -0.27698693,\n",
              "       -1.0404798 , -0.47169828, -0.3083698 ,  0.05523454,  0.17359772,\n",
              "       -0.22135384, -0.4774949 , -0.21990336,  0.09628602, -0.5514922 ,\n",
              "        0.2677562 , -0.5521624 , -0.4541867 , -0.4684482 ,  0.17712834,\n",
              "       -0.31668332, -0.01664723,  0.10941614,  0.09520764,  0.00831605,\n",
              "        0.17513473,  0.45971045, -0.24065104,  0.92842895,  0.46634382,\n",
              "       -0.21435791,  0.35296172,  0.94041675, -0.28279573, -0.26062673,\n",
              "       -0.690368  ,  0.12803885, -0.8258316 ,  0.06789214,  0.01451175,\n",
              "       -1.3642586 ,  0.03793041, -0.13471442, -0.3126283 , -0.00749985,\n",
              "       -1.3164576 ,  0.47945645, -0.3472008 ,  0.3865395 , -0.7841471 ,\n",
              "        0.45149726, -0.35876665,  0.05660474,  0.5108486 , -0.08941124,\n",
              "       -0.09223416,  0.24249938, -0.3409098 ,  0.2465324 ,  0.95062256,\n",
              "       -0.52900624,  0.42963892, -0.10518163, -0.06499314,  0.20158651,\n",
              "       -0.5150448 ,  0.6150493 , -0.38725367, -0.7598134 ,  0.18418553,\n",
              "       -0.00660899, -0.2191497 ,  0.6268804 ,  0.5385096 , -0.13163252],\n",
              "      dtype=float32)"
            ]
          },
          "metadata": {
            "tags": []
          },
          "execution_count": 33
        }
      ]
    },
    {
      "cell_type": "markdown",
      "metadata": {
        "id": "SWDaYbOiqQAE"
      },
      "source": [
        "### Проверка модели на адекватность\n",
        "В infer_word мы можем передать документы из учебного набора, т.е из того набора, на котором модель обучена. И далее посмотреть к какому вектору-тэгу(positive или negative) ближе лежит полученный вектор. Это будет проверка на адекватность нашей обученной модели."
      ]
    },
    {
      "cell_type": "code",
      "metadata": {
        "colab": {
          "base_uri": "https://localhost:8080/"
        },
        "id": "zWa_aERqP0Yh",
        "outputId": "9ecbee75-0f8b-4a17-d9ec-c5ed845a2b02"
      },
      "source": [
        "counter = 0;\n",
        "\n",
        "for id in range(len(train_set)):\n",
        "    inf = doc2vec_model.infer_vector(train_set[id].words)\n",
        "    if (train_set[id].tags[0] in doc2vec_model.docvecs.most_similar([inf])[0][0]):\n",
        "        counter+=1\n",
        "\n",
        "print(\"Процент верных ответов: \",100*counter/len(train_set),\"%\")"
      ],
      "execution_count": null,
      "outputs": [
        {
          "output_type": "stream",
          "text": [
            "Процент верных ответов:  87.87333333333333 %\n"
          ],
          "name": "stdout"
        }
      ]
    },
    {
      "cell_type": "markdown",
      "metadata": {
        "id": "cEJZ4gXJj0WI"
      },
      "source": [
        "### Создаем набор данных из векторо-документов"
      ]
    },
    {
      "cell_type": "markdown",
      "metadata": {
        "id": "yf0_qeRMpj1o"
      },
      "source": [
        "Формируем тестовые и тренировочные наборы, состоящие теперь из векторов рамером 100, которые соответствуют каждому документу."
      ]
    },
    {
      "cell_type": "code",
      "metadata": {
        "id": "as6Nvqj9Xcyh"
      },
      "source": [
        "train_targets = [doc.tags[0] for doc in train_tagged]\n",
        "train_regressors = [doc2vec_model.infer_vector(doc.words) for doc in train_tagged]\n",
        "\n",
        "test_targets = [doc.tags[0] for doc in test_tagged]\n",
        "test_regressors = [doc2vec_model.infer_vector(doc.words) for doc in test_tagged]"
      ],
      "execution_count": null,
      "outputs": []
    },
    {
      "cell_type": "code",
      "metadata": {
        "id": "SUryuYUJeC5u",
        "colab": {
          "base_uri": "https://localhost:8080/"
        },
        "outputId": "3ecb779f-7b06-4721-f2eb-a29d3a1d0bc3"
      },
      "source": [
        "print(train_targets[0])\n",
        "train_regressors[0]"
      ],
      "execution_count": null,
      "outputs": [
        {
          "output_type": "stream",
          "text": [
            "negative\n"
          ],
          "name": "stdout"
        },
        {
          "output_type": "execute_result",
          "data": {
            "text/plain": [
              "array([ 0.04378465, -0.01882197,  0.00387761,  0.11262374,  0.25725517,\n",
              "       -0.13344705,  0.1291818 ,  0.1992703 , -0.16207267, -0.14199238,\n",
              "       -0.23131074, -0.10983422,  0.09480346,  0.16331734,  0.02169193,\n",
              "        0.140035  , -0.16803047,  0.27269655, -0.11875939,  0.06352782,\n",
              "        0.00508744, -0.02933979,  0.01800849, -0.15547177,  0.3727586 ,\n",
              "       -0.20417011, -0.06433521, -0.21294847,  0.21682242, -0.05859027,\n",
              "       -0.34168386,  0.0494521 , -0.0541583 ,  0.10752595,  0.04818496,\n",
              "       -0.06861116, -0.11833825, -0.17161441,  0.02153685, -0.17696047,\n",
              "        0.04995104, -0.04391221, -0.10356568, -0.06631424,  0.05006706,\n",
              "       -0.04829941,  0.08093013, -0.08215582, -0.01089597,  0.02388665,\n",
              "       -0.01634159,  0.18977073,  0.03210041,  0.16181107,  0.05295672,\n",
              "       -0.0630203 ,  0.23389767,  0.3487913 ,  0.01419617,  0.09444965,\n",
              "       -0.34454602, -0.04043201, -0.18627189,  0.08256772,  0.14893396,\n",
              "       -0.2725901 , -0.0460009 , -0.10019724, -0.08067892,  0.01359405,\n",
              "       -0.23382397,  0.07921716, -0.08901706,  0.13809922, -0.3329003 ,\n",
              "        0.07752619, -0.10849081, -0.10237253,  0.22814454,  0.0608288 ,\n",
              "       -0.06450137,  0.03803459, -0.01561356,  0.0900763 ,  0.19919433,\n",
              "       -0.12194084,  0.19716634, -0.17909263,  0.11374589,  0.11231198,\n",
              "       -0.08099209,  0.01315538, -0.11976451, -0.26243562,  0.16876931,\n",
              "       -0.01373684, -0.08888611,  0.24469537,  0.12286124,  0.10960041],\n",
              "      dtype=float32)"
            ]
          },
          "metadata": {
            "tags": []
          },
          "execution_count": 37
        }
      ]
    },
    {
      "cell_type": "markdown",
      "metadata": {
        "id": "OzOcp_9Rp4MM"
      },
      "source": [
        "### Обучаем пиплайн"
      ]
    },
    {
      "cell_type": "code",
      "metadata": {
        "id": "dbkK5XPV4xEd"
      },
      "source": [
        "def evaluate_prediction(predictions, target, title=\"Confusion matrix\"):\n",
        "    print('accuracy %s' % metrics.accuracy_score(target, predictions))"
      ],
      "execution_count": null,
      "outputs": []
    },
    {
      "cell_type": "code",
      "metadata": {
        "colab": {
          "base_uri": "https://localhost:8080/"
        },
        "id": "BzS9wa6Y4vMU",
        "outputId": "3dc129c8-bc30-4c9b-da61-bbe093052c2e"
      },
      "source": [
        "logreg = LogisticRegression(n_jobs=1, C=1e5, random_state=42)\n",
        "logreg = logreg.fit(train_regressors, train_targets)\n",
        "evaluate_prediction(logreg.predict(test_regressors), test_targets, title=str(doc2vec_model))"
      ],
      "execution_count": null,
      "outputs": [
        {
          "output_type": "stream",
          "text": [
            "accuracy 0.8412\n"
          ],
          "name": "stdout"
        }
      ]
    },
    {
      "cell_type": "code",
      "metadata": {
        "id": "n1ESn7oIYJmP"
      },
      "source": [
        "pipeline_doc2vec = Pipeline([\n",
        "        ('clf', ClfSwitcher())\n",
        "])"
      ],
      "execution_count": null,
      "outputs": []
    },
    {
      "cell_type": "code",
      "metadata": {
        "id": "W8W-DQcjYJ6X"
      },
      "source": [
        "parameters = [\n",
        "    {\n",
        "    #Линейный классифектор\n",
        "        'clf__estimator': [SGDClassifier()], # SVM == loss\n",
        "        'clf__estimator__max_iter': [30,50,80],\n",
        "        'clf__estimator__alpha': [0.001, 0.0001],\n",
        "        'clf__estimator__loss': ['hinge', 'log', 'modified_huber']\n",
        "\n",
        "    },\n",
        "    {\n",
        "     #K-ближайших соседей\n",
        "        'clf__estimator': [KNeighborsClassifier(n_jobs=-1)],\n",
        "        'clf__estimator__n_neighbors':[3, 5, 10],\n",
        "        'clf__estimator__metric':['minkowski', 'cosine'],\n",
        "        'clf__estimator__leaf_size':[10,30,50]\n",
        "    },\n",
        "]"
      ],
      "execution_count": null,
      "outputs": []
    },
    {
      "cell_type": "code",
      "metadata": {
        "id": "E3THydvrYKG2"
      },
      "source": [
        "%%time\n",
        "grid_search = GridSearchCV(pipeline_doc2vec, parameters, n_jobs=-1)\n",
        "grid_search.fit(train_regressors, train_targets)"
      ],
      "execution_count": null,
      "outputs": []
    },
    {
      "cell_type": "code",
      "metadata": {
        "colab": {
          "base_uri": "https://localhost:8080/"
        },
        "id": "kDxtQLdLkIX4",
        "outputId": "d2bc59fb-7b62-4104-ac0b-f74b0aefb13a"
      },
      "source": [
        "grid_search.best_params_"
      ],
      "execution_count": null,
      "outputs": [
        {
          "output_type": "execute_result",
          "data": {
            "text/plain": [
              "{'clf__estimator': SGDClassifier(alpha=0.001, average=False, class_weight=None,\n",
              "               early_stopping=False, epsilon=0.1, eta0=0.0, fit_intercept=True,\n",
              "               l1_ratio=0.15, learning_rate='optimal', loss='modified_huber',\n",
              "               max_iter=80, n_iter_no_change=5, n_jobs=None, penalty='l2',\n",
              "               power_t=0.5, random_state=None, shuffle=True, tol=0.001,\n",
              "               validation_fraction=0.1, verbose=0, warm_start=False),\n",
              " 'clf__estimator__alpha': 0.001,\n",
              " 'clf__estimator__loss': 'modified_huber',\n",
              " 'clf__estimator__max_iter': 80}"
            ]
          },
          "metadata": {
            "tags": []
          },
          "execution_count": 90
        }
      ]
    },
    {
      "cell_type": "code",
      "metadata": {
        "id": "Q8KeYl5MrEjE"
      },
      "source": [
        "res = (\n",
        "    pd.DataFrame({\n",
        "        \"mean_test_score\": grid_search.cv_results_[\"mean_test_score\"],\n",
        "        \"mean_fit_time\": grid_search.cv_results_[\"mean_fit_time\"]})\n",
        "      .join(pd.io.json.json_normalize(grid_search.cv_results_[\"params\"]).add_prefix(\"param_\"))\n",
        ")\n",
        "res = res.to_csv() # перевоести в cvs file\n",
        "file_res = open(\"/content/drive/MyDrive/doc2vec_result.txt\", \"w\")\n",
        "file_res.write(res)"
      ],
      "execution_count": null,
      "outputs": []
    },
    {
      "cell_type": "code",
      "metadata": {
        "id": "ykrs5lrtYKPs",
        "colab": {
          "base_uri": "https://localhost:8080/"
        },
        "outputId": "3a75867d-fa5d-46b1-c337-a0793b41ab44"
      },
      "source": [
        "y_predicted = grid_search.predict(test_regressors)\n",
        "print(metrics.classification_report(test_targets, y_predicted,\n",
        "                                        target_names=['0','1']))"
      ],
      "execution_count": null,
      "outputs": [
        {
          "output_type": "stream",
          "text": [
            "              precision    recall  f1-score   support\n",
            "\n",
            "           0       0.86      0.83      0.84      2481\n",
            "           1       0.84      0.87      0.85      2519\n",
            "\n",
            "    accuracy                           0.85      5000\n",
            "   macro avg       0.85      0.85      0.85      5000\n",
            "weighted avg       0.85      0.85      0.85      5000\n",
            "\n"
          ],
          "name": "stdout"
        }
      ]
    },
    {
      "cell_type": "code",
      "metadata": {
        "id": "-vUcFEGMXu-z"
      },
      "source": [
        ""
      ],
      "execution_count": null,
      "outputs": []
    },
    {
      "cell_type": "markdown",
      "metadata": {
        "id": "QuHhse4ktpUM"
      },
      "source": [
        "# Источники\n",
        "\n",
        "1. "
      ]
    },
    {
      "cell_type": "code",
      "metadata": {
        "id": "IcTNb3zDtr9S"
      },
      "source": [
        ""
      ],
      "execution_count": null,
      "outputs": []
    }
  ]
}