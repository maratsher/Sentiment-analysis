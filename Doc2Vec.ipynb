{
  "nbformat": 4,
  "nbformat_minor": 0,
  "metadata": {
    "colab": {
      "name": "Doc2Vec.ipynb",
      "provenance": [],
      "collapsed_sections": []
    },
    "kernelspec": {
      "name": "python3",
      "display_name": "Python 3"
    }
  },
  "cells": [
    {
      "cell_type": "markdown",
      "metadata": {
        "id": "Dt3gbX_-LLh8"
      },
      "source": [
        "## Импортирование библеотек"
      ]
    },
    {
      "cell_type": "code",
      "metadata": {
        "id": "7anQcLTRLMCS"
      },
      "source": [
        "import pandas as pd\n",
        "import numpy as np\n",
        "import random\n",
        "from bs4 import BeautifulSoup\n",
        "import re\n",
        "\n",
        "from gensim import utils\n",
        "from gensim.models.doc2vec import LabeledSentence\n",
        "from gensim.models import Doc2Vec\n"
      ],
      "execution_count": null,
      "outputs": []
    },
    {
      "cell_type": "markdown",
      "metadata": {
        "id": "BTiQhKRrLB_Q"
      },
      "source": [
        "## Скачивание данных"
      ]
    },
    {
      "cell_type": "code",
      "metadata": {
        "colab": {
          "base_uri": "https://localhost:8080/"
        },
        "id": "re_cjg_FLDJ-",
        "outputId": "6373727d-dc12-45b7-993d-eb925f322565"
      },
      "source": [
        "from google.colab import drive\n",
        "drive.mount('/content/drive')"
      ],
      "execution_count": null,
      "outputs": [
        {
          "output_type": "stream",
          "text": [
            "Mounted at /content/drive\n"
          ],
          "name": "stdout"
        }
      ]
    },
    {
      "cell_type": "code",
      "metadata": {
        "colab": {
          "base_uri": "https://localhost:8080/",
          "height": 204
        },
        "id": "8m2-tpjzL5UR",
        "outputId": "b87ac633-a904-462b-8e5d-540566c79151"
      },
      "source": [
        "data = pd.read_csv(\"/content/drive/MyDrive/IMDB_Dataset.csv\", engine=\"python\", error_bad_lines=False)\n",
        "data.head(5)"
      ],
      "execution_count": null,
      "outputs": [
        {
          "output_type": "execute_result",
          "data": {
            "text/html": [
              "<div>\n",
              "<style scoped>\n",
              "    .dataframe tbody tr th:only-of-type {\n",
              "        vertical-align: middle;\n",
              "    }\n",
              "\n",
              "    .dataframe tbody tr th {\n",
              "        vertical-align: top;\n",
              "    }\n",
              "\n",
              "    .dataframe thead th {\n",
              "        text-align: right;\n",
              "    }\n",
              "</style>\n",
              "<table border=\"1\" class=\"dataframe\">\n",
              "  <thead>\n",
              "    <tr style=\"text-align: right;\">\n",
              "      <th></th>\n",
              "      <th>review</th>\n",
              "      <th>sentiment</th>\n",
              "    </tr>\n",
              "  </thead>\n",
              "  <tbody>\n",
              "    <tr>\n",
              "      <th>0</th>\n",
              "      <td>One of the other reviewers has mentioned that ...</td>\n",
              "      <td>positive</td>\n",
              "    </tr>\n",
              "    <tr>\n",
              "      <th>1</th>\n",
              "      <td>A wonderful little production. &lt;br /&gt;&lt;br /&gt;The...</td>\n",
              "      <td>positive</td>\n",
              "    </tr>\n",
              "    <tr>\n",
              "      <th>2</th>\n",
              "      <td>I thought this was a wonderful way to spend ti...</td>\n",
              "      <td>positive</td>\n",
              "    </tr>\n",
              "    <tr>\n",
              "      <th>3</th>\n",
              "      <td>Basically there's a family where a little boy ...</td>\n",
              "      <td>negative</td>\n",
              "    </tr>\n",
              "    <tr>\n",
              "      <th>4</th>\n",
              "      <td>Petter Mattei's \"Love in the Time of Money\" is...</td>\n",
              "      <td>positive</td>\n",
              "    </tr>\n",
              "  </tbody>\n",
              "</table>\n",
              "</div>"
            ],
            "text/plain": [
              "                                              review sentiment\n",
              "0  One of the other reviewers has mentioned that ...  positive\n",
              "1  A wonderful little production. <br /><br />The...  positive\n",
              "2  I thought this was a wonderful way to spend ti...  positive\n",
              "3  Basically there's a family where a little boy ...  negative\n",
              "4  Petter Mattei's \"Love in the Time of Money\" is...  positive"
            ]
          },
          "metadata": {
            "tags": []
          },
          "execution_count": 5
        }
      ]
    },
    {
      "cell_type": "markdown",
      "metadata": {
        "id": "sjoCyvXp885d"
      },
      "source": [
        "## Очистка данных\n",
        "Произведем базовую очистку данных. Приводим к нижнему регистру, удаляем html тэги, удаляем пунктуацию и цифры. Для Word2Vec моделей основательная очистка данных не требуется.\n"
      ]
    },
    {
      "cell_type": "code",
      "metadata": {
        "colab": {
          "base_uri": "https://localhost:8080/",
          "height": 204
        },
        "id": "eG9_gPBxMUsZ",
        "outputId": "6a279c98-0fee-40e6-e05d-3018db19494b"
      },
      "source": [
        "data['review'] = data['review'].apply(lambda x: x.lower()) #Приводим к нижнему регистру\n",
        "data['review'] = data['review'].apply(lambda x: BeautifulSoup(x).get_text()) # Удаляем технические слова\n",
        "data['review'] = data['review'].apply(lambda x: re.sub(r\"[^a-zA-Z]+\", \" \", x)) # Удаляем пунктуацию и цифры\n",
        "data[:5]"
      ],
      "execution_count": null,
      "outputs": [
        {
          "output_type": "execute_result",
          "data": {
            "text/html": [
              "<div>\n",
              "<style scoped>\n",
              "    .dataframe tbody tr th:only-of-type {\n",
              "        vertical-align: middle;\n",
              "    }\n",
              "\n",
              "    .dataframe tbody tr th {\n",
              "        vertical-align: top;\n",
              "    }\n",
              "\n",
              "    .dataframe thead th {\n",
              "        text-align: right;\n",
              "    }\n",
              "</style>\n",
              "<table border=\"1\" class=\"dataframe\">\n",
              "  <thead>\n",
              "    <tr style=\"text-align: right;\">\n",
              "      <th></th>\n",
              "      <th>review</th>\n",
              "      <th>sentiment</th>\n",
              "    </tr>\n",
              "  </thead>\n",
              "  <tbody>\n",
              "    <tr>\n",
              "      <th>0</th>\n",
              "      <td>one of the other reviewers has mentioned that ...</td>\n",
              "      <td>positive</td>\n",
              "    </tr>\n",
              "    <tr>\n",
              "      <th>1</th>\n",
              "      <td>a wonderful little production the filming tech...</td>\n",
              "      <td>positive</td>\n",
              "    </tr>\n",
              "    <tr>\n",
              "      <th>2</th>\n",
              "      <td>i thought this was a wonderful way to spend ti...</td>\n",
              "      <td>positive</td>\n",
              "    </tr>\n",
              "    <tr>\n",
              "      <th>3</th>\n",
              "      <td>basically there s a family where a little boy ...</td>\n",
              "      <td>negative</td>\n",
              "    </tr>\n",
              "    <tr>\n",
              "      <th>4</th>\n",
              "      <td>petter mattei s love in the time of money is a...</td>\n",
              "      <td>positive</td>\n",
              "    </tr>\n",
              "  </tbody>\n",
              "</table>\n",
              "</div>"
            ],
            "text/plain": [
              "                                              review sentiment\n",
              "0  one of the other reviewers has mentioned that ...  positive\n",
              "1  a wonderful little production the filming tech...  positive\n",
              "2  i thought this was a wonderful way to spend ti...  positive\n",
              "3  basically there s a family where a little boy ...  negative\n",
              "4  petter mattei s love in the time of money is a...  positive"
            ]
          },
          "metadata": {
            "tags": []
          },
          "execution_count": 6
        }
      ]
    },
    {
      "cell_type": "code",
      "metadata": {
        "id": "krY4PWe0OWz2"
      },
      "source": [
        ""
      ],
      "execution_count": null,
      "outputs": []
    },
    {
      "cell_type": "markdown",
      "metadata": {
        "id": "zV9OOquMKdo0"
      },
      "source": [
        "## Разделение данных на 4 файла\n",
        "Необходимо для использования библеотекой GenSim\n",
        "\n",
        "train-neg.txt: 20000 negative movie reviews from the test data\n",
        "\n",
        "train-pos.txt: 20000 positive movie reviews from the test data\n",
        "\n",
        "test-neg.txt: 5000 negative movie reviews from the training data\n",
        "\n",
        "test-pos.txt: 5000 positive movie reviews from the training data\n",
        "\n",
        "train-unsup.txt: 50000 Unlabelled movie reviews\n",
        "\n"
      ]
    },
    {
      "cell_type": "code",
      "metadata": {
        "id": "L-Ue-ZASKXHv"
      },
      "source": [
        "f_test_neg = open(\"/content/drive/MyDrive/test-neg.txt\", \"w\")\n",
        "f_test_pos = open(\"/content/drive/MyDrive/test-pos.txt\", \"w\")\n",
        "f_train_pos = open(\"/content/drive/MyDrive/train-pos.txt\", \"w\")\n",
        "f_train_neg = open(\"/content/drive/MyDrive/train-neg.txt\", \"w\")\n",
        "f_train_unsup = open(\"/content/drive/MyDrive/train-unsup.txt\", \"w\")\n",
        "\n",
        "for n, id in enumerate(data.loc[data.sentiment == \"positive\"].index.to_list()):\n",
        "  line = data.loc[data.sentiment == \"positive\"]['review'][id]+\"\\n\"\n",
        "  if n % 5 == 0:\n",
        "    f_test_pos.write(line)\n",
        "  else:\n",
        "    f_train_pos.write(line)\n",
        "  f_train_unsup.write(line)\n",
        "\n",
        "f_test_pos.close()\n",
        "f_train_pos.close()\n",
        "\n",
        "for n, id in enumerate(data.loc[data.sentiment == \"negative\"].index.to_list()):\n",
        "  line = data.loc[data.sentiment == \"negative\"]['review'][id]+\"\\n\"\n",
        "  print(\"2: \", n)\n",
        "  if n % 5 == 0:\n",
        "    f_test_neg.write(line)\n",
        "  else:\n",
        "    f_train_neg.write(line)\n",
        "  f_train_unsup.write(line)\n",
        "\n",
        "f_test_neg.close()\n",
        "f_train_neg.close()\n",
        "f_train_unsup.close()"
      ],
      "execution_count": null,
      "outputs": []
    },
    {
      "cell_type": "markdown",
      "metadata": {
        "id": "Gk2i7F8lYayA"
      },
      "source": [
        "## Пишем класс, который представляет данные в формате нужном для библеотеки GenSim"
      ]
    },
    {
      "cell_type": "code",
      "metadata": {
        "id": "Rd3aAmNZMS8w"
      },
      "source": [
        "\n",
        "class LabeledLineSentence(object):\n",
        "    def __init__(self, sources):\n",
        "        self.sources = sources\n",
        "        \n",
        "        flipped = {}\n",
        "        \n",
        "        for key, value in sources.items():\n",
        "            if value not in flipped:\n",
        "                flipped[value] = [key]\n",
        "            else:\n",
        "                raise Exception('Non-unique prefix encountered')\n",
        "    \n",
        "    def __iter__(self):\n",
        "        for source, prefix in self.sources.items():\n",
        "            with utils.smart_open(source) as fin:\n",
        "                for item_no, line in enumerate(fin):\n",
        "                    yield LabeledSentence(utils.to_unicode(line).split(), [prefix + '_%s' % item_no])\n",
        "    \n",
        "    def to_array(self):\n",
        "        self.sentences = []\n",
        "        for source, prefix in self.sources.items():\n",
        "            with utils.smart_open(source) as fin:\n",
        "                for item_no, line in enumerate(fin):\n",
        "                    self.sentences.append(LabeledSentence(utils.to_unicode(line).split(), [prefix + '_%s' % item_no]))\n",
        "        return self.sentences\n",
        "    \n",
        "    def sentences_perm(self):\n",
        "        shuffled = list(self.sentences)\n",
        "        random.shuffle(shuffled)\n",
        "        return shuffled"
      ],
      "execution_count": null,
      "outputs": []
    },
    {
      "cell_type": "markdown",
      "metadata": {
        "id": "4bG3RAk491FT"
      },
      "source": [
        "## Подготавливаем данные"
      ]
    },
    {
      "cell_type": "code",
      "metadata": {
        "id": "-gkav4kl3DJa"
      },
      "source": [
        "test_neg = \"/content/drive/MyDrive/test-neg.txt\"\n",
        "test_pos = \"/content/drive/MyDrive/test-pos.txt\"\n",
        "train_neg = \"/content/drive/MyDrive/train-neg.txt\"\n",
        "train_pos = \"/content/drive/MyDrive/train-pos.txt\"\n",
        "train_unsup = \"/content/drive/MyDrive/train-unsup.txt\"\n",
        "\n",
        "sources = {test_neg:'TEST_NEG', test_pos:'TEST_POS', train_neg:'TRAIN_NEG',\n",
        "           train_pos:'TRAIN_POS', train_unsup:'TRAIN_UNS'}\n",
        "\n",
        "sentences = LabeledLineSentence(sources)"
      ],
      "execution_count": null,
      "outputs": []
    },
    {
      "cell_type": "markdown",
      "metadata": {
        "id": "ZjQ4bmuU9-ca"
      },
      "source": [
        "## Создаем модель\n",
        "Скользящее окно размером 10, размер выходного вектора, в котором будут кодироваться документы - 300, учитываем слова размером более 1 символа."
      ]
    },
    {
      "cell_type": "code",
      "metadata": {
        "colab": {
          "base_uri": "https://localhost:8080/"
        },
        "id": "MvsnCoiKZ2bo",
        "outputId": "bac5e368-329d-497a-be50-122fefe8c5c6"
      },
      "source": [
        "model = Doc2Vec(min_count=1, window=10, size=300, sample=1e-4, negative=5, workers=7)\n",
        "\n",
        "model.build_vocab(sentences.to_array())"
      ],
      "execution_count": null,
      "outputs": [
        {
          "output_type": "stream",
          "text": [
            "/usr/local/lib/python3.7/dist-packages/gensim/models/doc2vec.py:570: UserWarning: The parameter `size` is deprecated, will be removed in 4.0.0, use `vector_size` instead.\n",
            "  warnings.warn(\"The parameter `size` is deprecated, will be removed in 4.0.0, use `vector_size` instead.\")\n",
            "/usr/local/lib/python3.7/dist-packages/ipykernel_launcher.py:26: DeprecationWarning: Call to deprecated `LabeledSentence` (Class will be removed in 4.0.0, use TaggedDocument instead).\n"
          ],
          "name": "stderr"
        }
      ]
    },
    {
      "cell_type": "markdown",
      "metadata": {
        "id": "yANxCne2-Q2U"
      },
      "source": [
        "## Обучаем модель\n",
        "Кол-во эпох - 10, при этом документы постоянно мешаются"
      ]
    },
    {
      "cell_type": "code",
      "metadata": {
        "id": "1gUvr7GLZ2TA"
      },
      "source": [
        "for epoch in range(10):\n",
        "    model.train(sentences.sentences_perm(), total_examples=model.corpus_count, epochs=1)"
      ],
      "execution_count": null,
      "outputs": []
    },
    {
      "cell_type": "markdown",
      "metadata": {
        "id": "yiTjPBLG-i9i"
      },
      "source": [
        "## Смотрим созданное веторное поле"
      ]
    },
    {
      "cell_type": "code",
      "metadata": {
        "colab": {
          "base_uri": "https://localhost:8080/"
        },
        "id": "IxcH3AYTZ2B4",
        "outputId": "2aae5091-0f87-4576-9c74-b64290586d0d"
      },
      "source": [
        "model.most_similar('good')"
      ],
      "execution_count": null,
      "outputs": [
        {
          "output_type": "stream",
          "text": [
            "/usr/local/lib/python3.7/dist-packages/ipykernel_launcher.py:1: DeprecationWarning: Call to deprecated `most_similar` (Method will be removed in 4.0.0, use self.wv.most_similar() instead).\n",
            "  \"\"\"Entry point for launching an IPython kernel.\n"
          ],
          "name": "stderr"
        },
        {
          "output_type": "execute_result",
          "data": {
            "text/plain": [
              "[('great', 0.5737320780754089),\n",
              " ('bad', 0.5302014946937561),\n",
              " ('decent', 0.5030850172042847),\n",
              " ('nice', 0.49121078848838806),\n",
              " ('terrific', 0.4088291823863983),\n",
              " ('solid', 0.4060879945755005),\n",
              " ('alright', 0.3883763551712036),\n",
              " ('well', 0.3794774115085602),\n",
              " ('excellent', 0.3667594790458679),\n",
              " ('interesting', 0.35757505893707275)]"
            ]
          },
          "metadata": {
            "tags": []
          },
          "execution_count": 9
        }
      ]
    },
    {
      "cell_type": "code",
      "metadata": {
        "colab": {
          "base_uri": "https://localhost:8080/"
        },
        "id": "sflv-qqNdlP7",
        "outputId": "8fa911b7-0a24-4da7-9841-38132ae55103"
      },
      "source": [
        "model['TRAIN_NEG_0']"
      ],
      "execution_count": null,
      "outputs": [
        {
          "output_type": "execute_result",
          "data": {
            "text/plain": [
              "array([-1.34594236e-02,  1.13151461e-01,  5.34629039e-02, -8.19490552e-02,\n",
              "        1.00003280e-01, -1.16313636e-01, -5.07149510e-02, -7.05573931e-02,\n",
              "        1.41359165e-01, -1.42407075e-01,  4.94573638e-02, -7.41359964e-03,\n",
              "        1.05124317e-01,  8.93052015e-03, -2.79366653e-02, -2.54827328e-02,\n",
              "        1.58710867e-01,  8.31479579e-02, -9.24004987e-02, -1.66838199e-01,\n",
              "       -1.61456857e-02,  1.06101476e-01, -8.76459479e-02,  1.72273651e-01,\n",
              "       -1.04037728e-02,  1.62663668e-01,  8.64231884e-02,  2.01845057e-02,\n",
              "        5.41579761e-02, -8.13006330e-03, -3.12526077e-02, -1.64003626e-01,\n",
              "        2.93135531e-02,  7.59267434e-03,  4.66508884e-03, -4.85731289e-03,\n",
              "       -2.69044731e-02,  1.07917212e-01,  4.31379229e-02, -1.26753569e-01,\n",
              "        8.48559942e-03, -5.01939096e-02, -3.21475565e-02, -2.24962756e-01,\n",
              "        1.20718628e-01,  1.02310292e-01, -3.89035195e-02,  7.80593902e-02,\n",
              "       -1.46747410e-01, -1.69814199e-01, -1.54120833e-01, -7.29133263e-02,\n",
              "        4.16233391e-02,  5.13607450e-03, -4.10904922e-02,  1.00141972e-01,\n",
              "       -1.14050999e-01, -7.82462582e-02, -2.41770297e-02,  2.68848687e-01,\n",
              "        4.78581190e-02,  2.00080216e-01,  4.75445502e-02, -3.32753360e-02,\n",
              "        1.44119382e-01, -5.16970903e-02, -2.92147491e-02,  1.40702039e-01,\n",
              "        8.21854733e-03, -7.07058758e-02, -2.08003432e-01, -2.99715996e-02,\n",
              "       -1.70847159e-02, -1.44904792e-01, -2.14669928e-02, -7.25509673e-02,\n",
              "        2.87624821e-02, -7.02906400e-02,  6.96770698e-02,  3.15875143e-01,\n",
              "        5.40269315e-02,  7.65337348e-02,  5.23811355e-02,  5.54284267e-02,\n",
              "       -1.92276761e-01,  2.09201053e-02, -1.95109081e-02,  3.70871305e-01,\n",
              "       -2.17107862e-01, -5.44450097e-02,  1.96496710e-01,  2.09258273e-01,\n",
              "        3.83392498e-02,  8.66220593e-02, -2.19723824e-02,  4.89721000e-02,\n",
              "       -7.51830786e-02,  4.59156036e-02,  3.07833664e-02,  7.41994083e-02,\n",
              "       -2.02666789e-01,  7.31249079e-02,  1.19232545e-02,  1.26391053e-01,\n",
              "       -5.08971997e-02, -2.64472403e-02, -1.19071752e-02, -1.24680631e-01,\n",
              "       -2.61669695e-01, -1.62467077e-01,  1.48728937e-01, -2.48678759e-01,\n",
              "        7.61398599e-02, -1.53663054e-01, -1.28431588e-01, -5.69426715e-02,\n",
              "        2.31045976e-01,  1.17927656e-01, -5.55738546e-02, -1.79947615e-02,\n",
              "        2.96140581e-01,  1.54091418e-01, -7.21257031e-02, -7.88259134e-03,\n",
              "       -2.50221062e-02, -1.35012820e-01,  1.66508168e-01,  2.08302528e-01,\n",
              "        1.23721503e-01,  1.01719216e-01,  9.48417932e-02, -1.60269767e-01,\n",
              "       -7.33604431e-02, -2.97212116e-02, -2.63638258e-01, -3.90965305e-02,\n",
              "        6.15382642e-02, -1.22654870e-01, -5.20359203e-02,  4.93274853e-02,\n",
              "        1.30092904e-01,  4.59089167e-02, -3.60652022e-02, -1.17602125e-02,\n",
              "        1.28914386e-01, -1.14596682e-02,  5.58592789e-02,  1.18619882e-01,\n",
              "        7.95041099e-02,  1.06454857e-01, -5.67852519e-02, -5.02892844e-02,\n",
              "       -1.61540866e-01,  1.72890816e-02,  1.11555837e-01,  4.52495478e-02,\n",
              "        9.83195156e-02, -1.94556966e-01,  1.29947498e-01, -6.00497006e-05,\n",
              "        1.81472838e-01, -1.66370958e-01,  9.03457105e-02,  1.21727571e-01,\n",
              "        1.80854369e-02,  2.27837324e-01, -8.08377936e-02,  1.13793269e-01,\n",
              "       -6.84473068e-02,  4.70710024e-02,  4.74274941e-02,  1.36148363e-01,\n",
              "        6.54982822e-03, -7.09468052e-02, -1.57224163e-01,  1.59302860e-01,\n",
              "       -7.40202293e-02, -1.42641500e-01, -1.94268644e-01, -3.85399722e-02,\n",
              "        2.32757255e-01,  2.80653685e-02, -4.35832217e-02,  2.86169653e-03,\n",
              "        1.71648249e-01,  6.16856217e-02, -1.51589051e-01,  1.09386407e-01,\n",
              "       -1.50774449e-01, -8.61171260e-02,  1.28349690e-02, -7.26828054e-02,\n",
              "        3.26604396e-02, -1.00926861e-01, -5.99141829e-02, -7.94795454e-02,\n",
              "       -1.32815633e-02, -7.53838643e-02, -3.72952893e-02, -5.46699390e-03,\n",
              "        1.26995459e-01,  1.88538373e-01,  2.92028803e-02, -6.53648749e-02,\n",
              "       -1.92844346e-01, -9.66060460e-02, -2.26574913e-01,  3.74137908e-02,\n",
              "        1.73547924e-01,  3.79758105e-02, -5.25006689e-02, -9.60506964e-03,\n",
              "       -4.98062372e-02,  2.95909882e-01, -1.11212395e-01, -7.55270869e-02,\n",
              "       -1.78970337e-01,  6.68027028e-02,  5.72512392e-03,  1.72689348e-01,\n",
              "        1.25824427e-02,  5.60192056e-02,  1.89957082e-01, -4.99499813e-02,\n",
              "       -1.89001441e-01, -1.63950175e-01,  6.95530847e-02,  1.23974979e-01,\n",
              "        1.23159215e-01,  8.20818767e-02, -1.32368341e-01, -1.94819853e-01,\n",
              "       -2.47291788e-01, -1.09855980e-01,  1.85669750e-01,  4.68023531e-02,\n",
              "       -2.22847641e-01,  9.41111054e-03,  1.17539868e-01,  6.05874136e-02,\n",
              "       -1.77913427e-01,  1.65688992e-01, -8.17542374e-02,  1.49778351e-02,\n",
              "       -6.94486350e-02,  1.90352171e-03, -6.70044571e-02,  8.69590640e-02,\n",
              "        5.78450747e-02, -5.15210070e-02,  2.49233022e-02,  5.33326119e-02,\n",
              "       -7.35795870e-02,  1.12586536e-01,  5.50987199e-02,  1.48273796e-01,\n",
              "       -3.53379175e-02, -3.24387401e-02,  1.60405189e-01, -9.24657360e-02,\n",
              "       -6.16846122e-02, -1.87767334e-02,  4.17565592e-02,  2.25650266e-01,\n",
              "       -9.18307751e-02,  2.75932029e-02, -1.32765114e-01, -1.06351770e-01,\n",
              "       -1.88693479e-01, -8.73873159e-02, -4.29950774e-01, -1.02581205e-02,\n",
              "       -1.62694275e-01,  1.63103700e-01,  7.37378523e-02, -1.50961587e-02,\n",
              "       -3.02153546e-02,  1.28822744e-01, -2.12871760e-01, -1.08770460e-01,\n",
              "       -9.81794968e-02, -1.18200906e-01,  1.32699180e-02,  2.72766590e-01,\n",
              "        9.06429812e-02,  8.51958916e-02,  7.02380762e-02, -3.28231081e-02,\n",
              "       -2.86301970e-02, -5.45789488e-02, -2.21358433e-01,  6.25738800e-02,\n",
              "        1.84967488e-01,  1.87301952e-02,  3.01885046e-02, -2.76995283e-02,\n",
              "        1.12661920e-01,  1.45449594e-01, -1.78964093e-01, -1.89769655e-01],\n",
              "      dtype=float32)"
            ]
          },
          "metadata": {
            "tags": []
          },
          "execution_count": 10
        }
      ]
    },
    {
      "cell_type": "markdown",
      "metadata": {
        "id": "NrhgPMJ4_RVA"
      },
      "source": [
        "## Сохроняем наш Doc2Vec модель, т.е векторное поле размеом 300, кодирующее наш корпус"
      ]
    },
    {
      "cell_type": "code",
      "metadata": {
        "id": "BXTDD4TEdldm"
      },
      "source": [
        "model.save('/content/drive/MyDrive/imdb.d2v')"
      ],
      "execution_count": null,
      "outputs": []
    },
    {
      "cell_type": "code",
      "metadata": {
        "id": "6p1o-8PteTOO"
      },
      "source": [
        "model = Doc2Vec.load('/content/drive/MyDrive/imdb.d2v')"
      ],
      "execution_count": null,
      "outputs": []
    },
    {
      "cell_type": "markdown",
      "metadata": {
        "id": "PhKhTH53-tqX"
      },
      "source": [
        "## Делим данные на train и test"
      ]
    },
    {
      "cell_type": "code",
      "metadata": {
        "colab": {
          "base_uri": "https://localhost:8080/"
        },
        "id": "jZMFJwFZeZy_",
        "outputId": "3bb68e02-3c19-42f2-9adc-0ca4ba81e954"
      },
      "source": [
        "train_arrays = np.zeros((40000, 300))\n",
        "train_labels = np.zeros(40000)\n",
        "\n",
        "for i in range(20000):\n",
        "    prefix_train_pos = 'TRAIN_POS_' + str(i)\n",
        "    prefix_train_neg = 'TRAIN_NEG_' + str(i)\n",
        "    train_arrays[i] = model[prefix_train_pos]\n",
        "    train_arrays[20000 + i] = model[prefix_train_neg]\n",
        "    train_labels[i] = 1\n",
        "    train_labels[20000 + i] = 0\n",
        "\n",
        "print(train_arrays)\n",
        "print(train_labels)"
      ],
      "execution_count": null,
      "outputs": [
        {
          "output_type": "stream",
          "text": [
            "[[ 0.17461239  0.06736773  0.06424893 ...  0.08741826 -0.10874546\n",
            "  -0.23376685]\n",
            " [-0.12048294 -0.077976    0.00411689 ...  0.24415332  0.01098458\n",
            "   0.06421904]\n",
            " [ 0.12223712 -0.17312549  0.2217738  ...  0.31761038  0.07167377\n",
            "   0.23271185]\n",
            " ...\n",
            " [ 0.05202795  0.10818143  0.00292161 ...  0.1318689   0.07976142\n",
            "   0.03052988]\n",
            " [ 0.04295819 -0.10021428  0.07244997 ...  0.05251344  0.02696934\n",
            "  -0.06941343]\n",
            " [-0.00197933 -0.00702499  0.02942873 ...  0.07246768 -0.04353519\n",
            "  -0.0544379 ]]\n",
            "[1. 1. 1. ... 0. 0. 0.]\n"
          ],
          "name": "stdout"
        }
      ]
    },
    {
      "cell_type": "code",
      "metadata": {
        "id": "dQ4P5RJSfPiE"
      },
      "source": [
        "test_arrays = np.zeros((10000, 300))\n",
        "test_labels = np.zeros(10000)\n",
        "\n",
        "for i in range(5000):\n",
        "    prefix_test_pos = 'TEST_POS_' + str(i)\n",
        "    prefix_test_neg = 'TEST_NEG_' + str(i)\n",
        "    test_arrays[i] = model[prefix_test_pos]\n",
        "    test_arrays[5000 + i] = model[prefix_test_neg]\n",
        "    test_labels[i] = 1\n",
        "    test_labels[5000 + i] = 0"
      ],
      "execution_count": null,
      "outputs": []
    },
    {
      "cell_type": "markdown",
      "metadata": {
        "id": "0QfE4baO-1or"
      },
      "source": [
        "## Обучаем ради примера на простой модели "
      ]
    },
    {
      "cell_type": "code",
      "metadata": {
        "colab": {
          "base_uri": "https://localhost:8080/"
        },
        "id": "oajSZNMTfkUK",
        "outputId": "ae4e8acc-10b1-4fa2-ced7-5d716aa9717f"
      },
      "source": [
        "from sklearn.linear_model import LogisticRegression\n",
        "\n",
        "classifier = LogisticRegression()\n",
        "classifier.fit(train_arrays, train_labels)\n",
        "classifier.score(test_arrays, test_labels)"
      ],
      "execution_count": null,
      "outputs": [
        {
          "output_type": "execute_result",
          "data": {
            "text/plain": [
              "0.8481"
            ]
          },
          "metadata": {
            "tags": []
          },
          "execution_count": 16
        }
      ]
    },
    {
      "cell_type": "code",
      "metadata": {
        "id": "bgJ2IHrIfkW1"
      },
      "source": [
        ""
      ],
      "execution_count": null,
      "outputs": []
    },
    {
      "cell_type": "code",
      "metadata": {
        "id": "_ps-oUSFfPwd"
      },
      "source": [
        ""
      ],
      "execution_count": null,
      "outputs": []
    },
    {
      "cell_type": "code",
      "metadata": {
        "id": "DSZlS3jMfP3t"
      },
      "source": [
        ""
      ],
      "execution_count": null,
      "outputs": []
    }
  ]
}